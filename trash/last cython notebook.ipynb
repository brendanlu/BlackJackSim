{
 "cells": [
  {
   "cell_type": "code",
   "execution_count": 10,
   "id": "efaf714c-7c0f-4dd1-9643-30abd4e949f2",
   "metadata": {},
   "outputs": [],
   "source": [
    "import numpy as np\n",
    "%load_ext Cython"
   ]
  },
  {
   "cell_type": "code",
   "execution_count": 2,
   "id": "344c26b2",
   "metadata": {},
   "outputs": [],
   "source": [
    "\"\"\"\n",
    "https://www.crownmelbourne.com.au/getsydmedia/99be12f2-c48b-44dc-b6ba-ab5849f6f723/crown-melbourne-gaming-blackjack-rules_1.pdf?ext=.pdf\n",
    "https://en.wikipedia.org/wiki/Glossary_of_blackjack_terms\n",
    "\"\"\"\n",
    "\n",
    "# configurations\n",
    "N_DECKS: int = 8\n",
    "DECK_PENETRATION: float = 0.25 # typical number of decks dealt out before reshuffle\n",
    "# NPLAYERS: int = 4 # affects how many cards you may be able to count"
   ]
  },
  {
   "cell_type": "code",
   "execution_count": 3,
   "id": "ede77953-53c6-4740-b881-9e16dd86aae5",
   "metadata": {},
   "outputs": [],
   "source": [
    "\"\"\"\n",
    "We keep basic card face and suit information. \n",
    "Later, could implement weird house rules without major modification.\n",
    "\"\"\"\n",
    "cards = np.array(['2','3','4','5','6','7','8','9','T','J','Q','K','A']) # use char T for 10 \n",
    "suits = np.array(['D', 'S', 'C', 'H'])\n",
    "deck = np.array([np.char.add(cards, suit) for suit in suits]).ravel()\n",
    "shoe = np.repeat(deck, N_DECKS)\n",
    "\n",
    "# We use bytestrings to enable Cython memview of C char[2] dtypes\n",
    "shoe = shoe.astype('S2')\n",
    "\n",
    "cut_idx = min(round((len(deck) * N_DECKS) * DECK_PENETRATION), len(deck) * N_DECKS)"
   ]
  },
  {
   "cell_type": "code",
   "execution_count": 4,
   "id": "f492ef94-4ee5-4e05-88cb-3472bf9b9350",
   "metadata": {},
   "outputs": [
    {
     "name": "stdout",
     "output_type": "stream",
     "text": [
      "9.87 µs ± 129 ns per loop (mean ± std. dev. of 7 runs, 100,000 loops each)\n"
     ]
    }
   ],
   "source": [
    "# we need this to be fast, we will shuffle a lot!\n",
    "rng = np.random.default_rng() # https://numpy.org/doc/stable/reference/random/index.html\n",
    "%timeit rng.shuffle(shoe)"
   ]
  },
  {
   "cell_type": "code",
   "execution_count": 5,
   "id": "008e2176",
   "metadata": {},
   "outputs": [
    {
     "name": "stdout",
     "output_type": "stream",
     "text": [
      "14.3 µs ± 109 ns per loop (mean ± std. dev. of 7 runs, 100,000 loops each)\n"
     ]
    }
   ],
   "source": [
    "# BAD: redundant for 1D array. \n",
    "shoe_size = shoe.shape[0]\n",
    "%timeit shoe[rng.permutation(shoe_size)]"
   ]
  },
  {
   "cell_type": "code",
   "execution_count": 6,
   "id": "2d7a237a",
   "metadata": {},
   "outputs": [
    {
     "name": "stdout",
     "output_type": "stream",
     "text": [
      "91.3 µs ± 4.8 µs per loop (mean ± std. dev. of 7 runs, 10,000 loops each)\n"
     ]
    }
   ],
   "source": [
    "# BAD idea to use value mapping after every shuffle\n",
    "values = np.array([2,3,4,5,6,7,8,9,10,10,10,10,11])\n",
    "dict_map = dict(zip(cards.astype('S1'), values))\n",
    "%timeit np.array([dict_map[x[:1]] for x in shoe]) # slicing byte string to get first char\n",
    "# %timeit np.vectorize(dict_map.get)(shoe)"
   ]
  },
  {
   "cell_type": "code",
   "execution_count": 7,
   "id": "5d9ca7a3",
   "metadata": {},
   "outputs": [],
   "source": [
    "# may change to use numpy to read-in csv, to avoid pandas dependency\n",
    "import pandas as pd\n",
    "strat = pd.read_csv(r\"..\\Strategy Input\\BasicNoDeviations-4to8Decks-HitSoft17.csv\", header=None)\n",
    "\n",
    "\"\"\"\n",
    "Read in the individual strategy tables.\n",
    "\"\"\"\n",
    "hard = strat.iloc[0:18, :].copy().reset_index(drop=True)\n",
    "hard = hard.values.astype(str)\n",
    "hrd = hard[1:,1:].astype('S1')\n",
    "\n",
    "soft = strat.iloc[18:27, :].copy().reset_index(drop=True)\n",
    "soft = soft.values.astype(str)\n",
    "sft = soft[1:,1:].astype('S1')\n",
    "\n",
    "splits = strat.iloc[27:38, :].copy().reset_index(drop=True)\n",
    "splits = splits.values.astype(str)\n",
    "splts = splits[1:,1:].astype('S1')"
   ]
  },
  {
   "cell_type": "code",
   "execution_count": 8,
   "id": "0c18110b",
   "metadata": {},
   "outputs": [],
   "source": [
    "# Read in the counting strategy\n",
    "count = pd.read_csv(r\"..\\Strategy Input\\HiLoCount.csv\", header=None)\n",
    "cnt = count.iloc[:,1].values.astype(float)"
   ]
  },
  {
   "cell_type": "code",
   "execution_count": 13,
   "id": "c1a92953",
   "metadata": {},
   "outputs": [],
   "source": [
    "%%cython --cplus\n",
    "# do not know if this global directive is actually needed - maybe later when we break into files\n",
    "# # https://cython.readthedocs.io/en/latest/src/tutorial/strings.html\n",
    "# cython: c_string_type=str, c_string_encoding=ascii\n",
    "\n",
    "import numpy as np\n",
    "cimport cython\n",
    "\n",
    "cdef int ASCII_A = 65 \n",
    "cdef unsigned int MEMBLOCKS = 21 # LARGEST POSSIBLE CARD SIZE OF HAND (21 SOFT ACES)\n",
    "\n",
    "# Create a packed struct in C representing one card in the shoe\n",
    "# https://cython.readthedocs.io/en/latest/src/userguide/memoryviews.html\n",
    "cdef packed struct card_dtype_struct: \n",
    "    char face\n",
    "    char suit\n",
    "\n",
    "# Python dicts actually implemented quite fast\n",
    "# If this is too slow, can consider using unordered_map from C++ STL. \n",
    "# https://stackoverflow.com/questions/29268914/python-dictionaries-vs-c-stdunordered-map-cython-vs-cythonized-python-dict\n",
    "# https://stackoverflow.com/questions/32266444/using-a-dictionary-in-cython-especially-inside-nogil\n",
    "cdef dict dealer_idx = {\n",
    "    b'2': 0,\n",
    "    b'3': 1,\n",
    "    b'4': 2,\n",
    "    b'5': 3,\n",
    "    b'6': 4,\n",
    "    b'7': 5,\n",
    "    b'8': 6,\n",
    "    b'9': 7,\n",
    "    b'T': 8,\n",
    "    b'J': 8,\n",
    "    b'Q': 8,\n",
    "    b'K': 8,\n",
    "    b'A': 9,\n",
    "}\n",
    "\n",
    "# function decorators to turn off various things, in the interest of speed\n",
    "# https://cython.readthedocs.io/en/latest/src/userguide/source_files_and_compilation.html#compiler-directives\n",
    "@cython.boundscheck(False)\n",
    "@cython.wraparound(False)\n",
    "@cython.initializedcheck(False)\n",
    "def play_shoe(\n",
    "    card_dtype_struct[:] shoe not None, \n",
    "    Py_ssize_t cut_idx, \n",
    "    char[:,:] hrd not None, \n",
    "    char[:,:] sft not None, \n",
    "    char[:,:] splt not None, \n",
    "    double[:] cnt not None):\n",
    "    \"\"\"\n",
    "    Simulate playing one shuffled shoe, until a cut card is drawn. \n",
    "    For now, return to main Python loop for reshuffle. \n",
    "\n",
    "    Inputs: (REFER TO TEMPLATE FILES IN STRATEGY INPUT)\n",
    "        - 'shoe': numpy array (buffer) of char[2] byte strings\n",
    "        - 'cut_idx': int, simulates the depth of the cut card\n",
    "        - 'hrd': numpy array (buffer) of char bytes, in the input format dictating BJ action on player hard hand\n",
    "        - 'sft': numpy array (buffer) of char bytes, in the input format dictating BJ action on player soft hand\n",
    "        - 'splt': numpy array (buffer) of char bytes, in the input format dictating BJ action on player paired hand\n",
    "        - 'cnt': numpy array (buffer) of double (Python float6), in the input format, with count values\n",
    "    \"\"\"\n",
    "\n",
    "    cdef Py_ssize_t dealt = 0 # track what has been 'dealt' from shoe\n",
    "    cdef double count = 0 # card count\n",
    "\n",
    "    # declare arrays to hold idxs of cards for player and dealer\n",
    "    # cdef hand_t phand\n",
    "    # cdef hand_t dhand \n",
    "\n",
    "    # play the shoe\n",
    "    while dealt < cut_idx:\n",
    "    # this should roughly simulate a 'cut card'\n",
    "    # we have to exceed the cut position prior to dealing\n",
    "        \n",
    "        # init both our hands to blanks\n",
    "\n",
    "        break\n",
    "\n",
    "\n",
    "    print(bool(shoe[0].face == b'J'))\n",
    "\n",
    "    # type cast into python bytes, so works as dict key\n",
    "    # https://cython.readthedocs.io/en/latest/src/tutorial/strings.html\n",
    "    print(dealer_idx.get(<bytes>(shoe[0].face)))\n",
    "\n"
   ]
  },
  {
   "cell_type": "code",
   "execution_count": null,
   "id": "0bffc7c3",
   "metadata": {},
   "outputs": [],
   "source": []
  },
  {
   "cell_type": "code",
   "execution_count": 14,
   "id": "017eeae5",
   "metadata": {},
   "outputs": [
    {
     "name": "stdout",
     "output_type": "stream",
     "text": [
      "False\n",
      "8\n"
     ]
    }
   ],
   "source": [
    "play_shoe(shoe, cut_idx, hrd, sft, splts, cnt)"
   ]
  },
  {
   "cell_type": "code",
   "execution_count": 15,
   "id": "14889b9d",
   "metadata": {},
   "outputs": [
    {
     "data": {
      "text/plain": [
       "array([b'TC', b'4D', b'TD', b'4H', b'9S', b'2H', b'TC', b'9C', b'5C',\n",
       "       b'6H', b'KS', b'JS', b'9D', b'8S', b'3H', b'8S', b'6S', b'QH',\n",
       "       b'TC', b'QH', b'9S', b'8S', b'2H', b'8H', b'TH', b'9D', b'AH',\n",
       "       b'6D', b'AD', b'7H', b'8H', b'JH', b'KS', b'2D', b'8D', b'KS',\n",
       "       b'6D', b'AC', b'2H', b'3S', b'4H', b'4S', b'TC', b'7H', b'6C',\n",
       "       b'2S', b'8D', b'5C', b'TS', b'2S'], dtype='|S2')"
      ]
     },
     "execution_count": 15,
     "metadata": {},
     "output_type": "execute_result"
    }
   ],
   "source": [
    "shoe[:50]"
   ]
  },
  {
   "cell_type": "code",
   "execution_count": null,
   "id": "41e7c76b",
   "metadata": {},
   "outputs": [],
   "source": []
  },
  {
   "cell_type": "code",
   "execution_count": null,
   "id": "f590d815",
   "metadata": {},
   "outputs": [],
   "source": []
  }
 ],
 "metadata": {
  "kernelspec": {
   "display_name": "Python 3 (ipykernel)",
   "language": "python",
   "name": "python3"
  },
  "language_info": {
   "codemirror_mode": {
    "name": "ipython",
    "version": 3
   },
   "file_extension": ".py",
   "mimetype": "text/x-python",
   "name": "python",
   "nbconvert_exporter": "python",
   "pygments_lexer": "ipython3",
   "version": "3.10.7"
  }
 },
 "nbformat": 4,
 "nbformat_minor": 5
}
