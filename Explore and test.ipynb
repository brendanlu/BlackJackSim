{
 "cells": [
  {
   "cell_type": "code",
   "execution_count": 20,
   "id": "efaf714c-7c0f-4dd1-9643-30abd4e949f2",
   "metadata": {},
   "outputs": [],
   "source": [
    "import numpy as np\n",
    "%load_ext Cython"
   ]
  },
  {
   "cell_type": "code",
   "execution_count": 19,
   "id": "344c26b2",
   "metadata": {},
   "outputs": [],
   "source": [
    "# configurations\n",
    "NDECKS: int = 8\n",
    "NPLAYERS: int = 4\n",
    "BURNPROB: float = 1.0"
   ]
  },
  {
   "cell_type": "code",
   "execution_count": 48,
   "id": "ede77953-53c6-4740-b881-9e16dd86aae5",
   "metadata": {},
   "outputs": [],
   "source": [
    "\"\"\"\n",
    "We keep our representation of the deck and cards as characters, rather than grouping on BJ value\n",
    "Importantly, this means our framework remains flexible enough to add in weird house rules such as \n",
    "\"\"\"\n",
    "cards = np.array(['2','3','4','5','6','7','8','9','T','J','Q','K','A']) # use char T for 10 \n",
    "# values = np.array([2,3,4,5,6,7,8,9,10,10,10,10,11])\n",
    "# dict_map = dict(zip(cards, values))\n",
    "suits = np.array(['D', 'S', 'C', 'H'])\n",
    "deck = np.array([np.core.defchararray.add(cards, suit) for suit in suits])\n",
    "stream = np.repeat(deck, NDECKS)"
   ]
  },
  {
   "cell_type": "code",
   "execution_count": 49,
   "id": "f492ef94-4ee5-4e05-88cb-3472bf9b9350",
   "metadata": {},
   "outputs": [
    {
     "name": "stdout",
     "output_type": "stream",
     "text": [
      "9.91 µs ± 121 ns per loop (mean ± std. dev. of 7 runs, 100,000 loops each)\n"
     ]
    }
   ],
   "source": [
    "rng = np.random.default_rng() # https://numpy.org/doc/stable/reference/random/index.html\n",
    "%timeit rng.shuffle(stream)"
   ]
  },
  {
   "cell_type": "code",
   "execution_count": 44,
   "id": "2d7a237a",
   "metadata": {},
   "outputs": [
    {
     "name": "stdout",
     "output_type": "stream",
     "text": [
      "140 µs ± 1.48 µs per loop (mean ± std. dev. of 7 runs, 10,000 loops each)\n",
      "51.5 µs ± 1.68 µs per loop (mean ± std. dev. of 7 runs, 10,000 loops each)\n"
     ]
    }
   ],
   "source": [
    "# bad idea to use value mapping after every shuffle\n",
    "%timeit np.array([dict_map[x] for x in stream])\n",
    "%timeit np.vectorize(dict_map.get)(stream)"
   ]
  },
  {
   "cell_type": "code",
   "execution_count": 47,
   "id": "c1a92953",
   "metadata": {},
   "outputs": [],
   "source": [
    "%%cython\n",
    "import numpy as np\n",
    "cimport cython \n",
    "\n",
    "\"\"\" \n",
    "C uses ascii integer representation for characters\n",
    "Numeric characters in our stream will have an ascii value less than ascii of 'a'\n",
    "English characters will have an ascii value greater than ascii of 'a'\n",
    "\"\"\"\n",
    "cdef int ASCII_A = 65 \n",
    "\n",
    "@cython.boundscheck(False)\n",
    "@cython.wraparound(False)\n",
    "def play_stream(char[:] stream not None):\n",
    "    cdef Py_ssize_t i = 0  # track dealt out index\n",
    "    \n",
    "\n"
   ]
  },
  {
   "cell_type": "code",
   "execution_count": 50,
   "id": "3600b7a8-d863-43d8-9b6c-554603e9b2cb",
   "metadata": {},
   "outputs": [
    {
     "data": {
      "text/plain": [
       "array(['4D', '4C', '7D', 'QC', '2H', '3D', '6C', '2H', '9D', '4H', 'AC',\n",
       "       '5H', '5S', 'JD', '9H', 'JC', '5C', '7H', 'QC', '9H', '4H', '9S',\n",
       "       '2C', '4D', 'QH', 'JC', 'QH', '9S', 'TC', 'AD', 'AS', '4C', '7C',\n",
       "       '7S', 'AD', 'QS', '8C', '3H', 'JH', '9C'], dtype='<U2')"
      ]
     },
     "execution_count": 50,
     "metadata": {},
     "output_type": "execute_result"
    }
   ],
   "source": [
    "stream[:40]"
   ]
  }
 ],
 "metadata": {
  "kernelspec": {
   "display_name": "Python 3 (ipykernel)",
   "language": "python",
   "name": "python3"
  },
  "language_info": {
   "codemirror_mode": {
    "name": "ipython",
    "version": 3
   },
   "file_extension": ".py",
   "mimetype": "text/x-python",
   "name": "python",
   "nbconvert_exporter": "python",
   "pygments_lexer": "ipython3",
   "version": "3.10.7"
  }
 },
 "nbformat": 4,
 "nbformat_minor": 5
}
