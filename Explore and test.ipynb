{
 "cells": [
  {
   "cell_type": "code",
   "execution_count": 2,
   "id": "efaf714c-7c0f-4dd1-9643-30abd4e949f2",
   "metadata": {},
   "outputs": [],
   "source": [
    "import numpy as np\n",
    "%load_ext Cython"
   ]
  },
  {
   "cell_type": "code",
   "execution_count": 3,
   "id": "344c26b2",
   "metadata": {},
   "outputs": [],
   "source": [
    "\"\"\"\n",
    "Most of the BJ stuff should follow general game conventions. \n",
    "We initially model more intricate details (burning, shuffling protocol) based on local casino.\n",
    "https://www.crownmelbourne.com.au/getsydmedia/99be12f2-c48b-44dc-b6ba-ab5849f6f723/crown-melbourne-gaming-blackjack-rules_1.pdf?ext=.pdf\n",
    "https://en.wikipedia.org/wiki/Glossary_of_blackjack_terms\n",
    "\"\"\"\n",
    "\n",
    "# configurations\n",
    "NDECKS: int = 8\n",
    "# NPLAYERS: int = 4 # affects how many cards you may be able to count\n",
    "DECK_PENETRATION: int = 2 # typical number of decks dealt out before reshuffle"
   ]
  },
  {
   "cell_type": "code",
   "execution_count": 4,
   "id": "ede77953-53c6-4740-b881-9e16dd86aae5",
   "metadata": {},
   "outputs": [],
   "source": [
    "\"\"\"\n",
    "We keep our representation of the deck and cards as characters, rather than grouping on BJ value\n",
    "Importantly, this means our framework remains flexible enough to add in weird house rules such as perfect pairs/flushes\n",
    "\"\"\"\n",
    "cards = np.array(['2','3','4','5','6','7','8','9','T','J','Q','K','A']) # use char T for 10 \n",
    "suits = np.array(['D', 'S', 'C', 'H'])\n",
    "deck = np.array([np.char.add(cards, suit) for suit in suits]).ravel()\n",
    "shoe = np.repeat(deck, NDECKS)\n",
    "\n",
    "# We use bytestrings to enable Cython memview of C char[2] dtypes\n",
    "shoe = shoe.astype('S2')\n",
    "\n",
    "numcardsdeal = len(deck) * DECK_PENETRATION"
   ]
  },
  {
   "cell_type": "code",
   "execution_count": 5,
   "id": "f492ef94-4ee5-4e05-88cb-3472bf9b9350",
   "metadata": {},
   "outputs": [
    {
     "name": "stdout",
     "output_type": "stream",
     "text": [
      "8.05 µs ± 127 ns per loop (mean ± std. dev. of 7 runs, 100,000 loops each)\n"
     ]
    }
   ],
   "source": [
    "rng = np.random.default_rng() # https://numpy.org/doc/stable/reference/random/index.html\n",
    "%timeit rng.shuffle(shoe)"
   ]
  },
  {
   "cell_type": "code",
   "execution_count": 6,
   "id": "2d7a237a",
   "metadata": {},
   "outputs": [
    {
     "name": "stdout",
     "output_type": "stream",
     "text": [
      "66.7 µs ± 1.46 µs per loop (mean ± std. dev. of 7 runs, 10,000 loops each)\n"
     ]
    }
   ],
   "source": [
    "# bad idea to use value mapping after every shuffle\n",
    "values = np.array([2,3,4,5,6,7,8,9,10,10,10,10,11])\n",
    "dict_map = dict(zip(cards.astype('S1'), values))\n",
    "%timeit np.array([dict_map[x[:1]] for x in shoe]) # slicing byte string to get first char\n",
    "# %timeit np.vectorize(dict_map.get)(shoe)"
   ]
  },
  {
   "cell_type": "code",
   "execution_count": 7,
   "id": "5d9ca7a3",
   "metadata": {},
   "outputs": [],
   "source": [
    "# may change to use numpy to read-in csv, to avoid pandas dependency\n",
    "import pandas as pd\n",
    "strat = pd.read_csv(r\"StrategyInput\\BasicNoDeviations-4to8Decks-HitSoft17.csv\", header=None)\n",
    "\n",
    "\"\"\"\n",
    "Read in the individual strategy tables, and set top left corner position to 0.\n",
    "\"\"\"\n",
    "hard = strat.iloc[0:18, :].copy().reset_index(drop=True)\n",
    "hard[0][0] = '0'\n",
    "hard = hard.values.astype(str)\n",
    "hrd = hard[1:,1:].astype('S1')\n",
    "\n",
    "soft = strat.iloc[18:27, :].copy().reset_index(drop=True)\n",
    "soft[0][0] = '0'\n",
    "soft = soft.values.astype(str)\n",
    "sft = soft[1:,1:].astype('S1')\n",
    "\n",
    "splits = strat.iloc[27:38, :].copy().reset_index(drop=True)\n",
    "splits[0][0] = '0'\n",
    "splits = splits.values.astype(str)\n",
    "splts = splits[1:,1:].astype('S1')"
   ]
  },
  {
   "cell_type": "code",
   "execution_count": 8,
   "id": "0c18110b",
   "metadata": {},
   "outputs": [],
   "source": [
    "count = pd.read_csv(r\"StrategyInput\\HiLoCount.csv\", header=None)\n",
    "cnt = count.iloc[:,1].values.astype(float)"
   ]
  },
  {
   "cell_type": "code",
   "execution_count": 37,
   "id": "c1a92953",
   "metadata": {},
   "outputs": [],
   "source": [
    "%%cython --cplus\n",
    "# do not know if this global directive is actually needed - maybe later when we break into files\n",
    "# # https://cython.readthedocs.io/en/latest/src/tutorial/strings.html\n",
    "# cython: c_string_type=str, c_string_encoding=ascii\n",
    "\n",
    "import numpy as np\n",
    "cimport cython\n",
    "from libcpp.vector cimport vector\n",
    "\n",
    "# Create a packed struct in C representing one card in the shoe\n",
    "# https://cython.readthedocs.io/en/latest/src/userguide/memoryviews.html\n",
    "cdef packed struct card_dtype_struct: \n",
    "    char face\n",
    "    char suit\n",
    "\n",
    "# C uses ascii integer representation for characters\n",
    "# Numeric characters in our shoe will have an ascii value less than ascii of 'a'\n",
    "# English characters will have an ascii value greater than ascii of 'a'\n",
    "# https://www.cs.cmu.edu/~pattis/15-1XX/common/handouts/ascii.html\n",
    "cdef int ASCII_A = 65 \n",
    "\n",
    "# Python dicts actually implemented quite fast\n",
    "# If this is too slow, can consider using unordered_map from C++ STL. \n",
    "# https://stackoverflow.com/questions/29268914/python-dictionaries-vs-c-stdunordered-map-cython-vs-cythonized-python-dict\n",
    "# https://stackoverflow.com/questions/32266444/using-a-dictionary-in-cython-especially-inside-nogil\n",
    "cdef dict dealer_idx = {\n",
    "    b'2': 0,\n",
    "    b'3': 1,\n",
    "    b'4': 2,\n",
    "    b'5': 3,\n",
    "    b'6': 4,\n",
    "    b'7': 5,\n",
    "    b'8': 6,\n",
    "    b'9': 7,\n",
    "    b'T': 8,\n",
    "    b'J': 8,\n",
    "    b'Q': 8,\n",
    "    b'K': 8,\n",
    "    b'A': 9,\n",
    "}\n",
    "\n",
    "# function decorators to turn off various things, in the interest of speed\n",
    "# https://cython.readthedocs.io/en/latest/src/userguide/source_files_and_compilation.html#compiler-directives\n",
    "@cython.boundscheck(False)\n",
    "@cython.wraparound(False)\n",
    "@cython.initializedcheck(False)\n",
    "def play_shoe(\n",
    "    card_dtype_struct[:] shoe not None, \n",
    "    int numcardsdeal, \n",
    "    char[:,:] hrd not None, \n",
    "    char[:,:] sft not None, \n",
    "    char[:,:] splt not None, \n",
    "    double[:] cnt not None):\n",
    "    \"\"\"\n",
    "    Simulate playing one shuffled shoe, until a cut card is drawn. \n",
    "    For now, return to main Python loop for reshuffle. \n",
    "\n",
    "    Inputs: (REFER TO TEMPLATE FILES IN STRATEGY INPUT)\n",
    "        - 'shoe': numpy array (buffer) of char[2] byte strings\n",
    "        - 'numcardsdeal': int, simulates the depth of the cut card\n",
    "        - 'hrd': numpy array (buffer) of char bytes, in the input format dictating BJ action on player hard hand\n",
    "        - 'sft': numpy array (buffer) of char bytes, in the input format dictating BJ action on player soft hand\n",
    "        - 'splt': numpy array (buffer) of char bytes, in the input format dictating BJ action on player paired hand\n",
    "        - 'cnt': numpy array (buffer) of double (Python float6), in the input format, with count values\n",
    "    \"\"\"\n",
    "    cdef Py_ssize_t dealt = 0 # track what has been 'dealt' from shoe\n",
    "    cdef double count = 0 # card count\n",
    "\n",
    "    # Use vector from cpp STL to represent player and dealer hands\n",
    "    cdef vector[char] phand = vector[char](10)\n",
    "\n",
    "    # this should roughly simulate a 'cut card'\n",
    "    # we have to exceed the cut position prior to dealing\n",
    "    # while dealt < numcardsdeal:\n",
    "        \n",
    "    \n",
    "\n",
    "\n",
    "\n",
    "    print(bool(shoe[0].face == b'5'))\n",
    "\n",
    "    # type cast into python bytes, so works as dict key\n",
    "    # https://cython.readthedocs.io/en/latest/src/tutorial/strings.html\n",
    "    print(dealer_idx.get(<bytes>(shoe[0].face)))\n",
    "\n",
    "\n"
   ]
  },
  {
   "cell_type": "code",
   "execution_count": 38,
   "id": "2da12c8b",
   "metadata": {},
   "outputs": [
    {
     "name": "stdout",
     "output_type": "stream",
     "text": [
      "True\n",
      "3\n"
     ]
    }
   ],
   "source": [
    "play_shoe(shoe, numcardsdeal, hrd, sft, splts, cnt)"
   ]
  },
  {
   "cell_type": "code",
   "execution_count": 13,
   "id": "14889b9d",
   "metadata": {},
   "outputs": [
    {
     "data": {
      "text/plain": [
       "array([b'5C', b'8C', b'7C', b'9C', b'9D', b'TS', b'6H', b'QH', b'QC',\n",
       "       b'AS', b'TS', b'TS', b'3S', b'2D', b'5H', b'8D', b'5S', b'TH',\n",
       "       b'6S', b'8H', b'TD', b'QD', b'KC', b'4D', b'TD', b'6S', b'AD',\n",
       "       b'KD', b'4D', b'3D', b'KC', b'2S', b'7C', b'AD', b'AD', b'3S',\n",
       "       b'QS', b'6C', b'7D', b'QC', b'4S', b'4C', b'4H', b'JH', b'AS',\n",
       "       b'QS', b'3H', b'AC', b'TH', b'AC'], dtype='|S2')"
      ]
     },
     "execution_count": 13,
     "metadata": {},
     "output_type": "execute_result"
    }
   ],
   "source": [
    "shoe[:50]"
   ]
  },
  {
   "cell_type": "code",
   "execution_count": 35,
   "id": "4d1cd59c",
   "metadata": {},
   "outputs": [
    {
     "data": {
      "text/plain": [
       "array([['0', '2', '3', '4', '5', '6', '7', '8', '9', 'T', 'A'],\n",
       "       ['4', 'H', 'H', 'H', 'H', 'H', 'H', 'H', 'H', 'H', 'H'],\n",
       "       ['5', 'H', 'H', 'H', 'H', 'H', 'H', 'H', 'H', 'H', 'H'],\n",
       "       ['6', 'H', 'H', 'H', 'H', 'H', 'H', 'H', 'H', 'H', 'H'],\n",
       "       ['7', 'H', 'H', 'H', 'H', 'H', 'H', 'H', 'H', 'H', 'H'],\n",
       "       ['8', 'H', 'H', 'H', 'H', 'H', 'H', 'H', 'H', 'H', 'H'],\n",
       "       ['9', 'H', 'D', 'D', 'D', 'D', 'H', 'H', 'H', 'H', 'H'],\n",
       "       ['10', 'D', 'D', 'D', 'D', 'D', 'D', 'D', 'D', 'H', 'H'],\n",
       "       ['11', 'D', 'D', 'D', 'D', 'D', 'D', 'D', 'D', 'D', 'D'],\n",
       "       ['12', 'H', 'H', 'S', 'S', 'S', 'H', 'H', 'H', 'H', 'H'],\n",
       "       ['13', 'S', 'S', 'S', 'S', 'S', 'H', 'H', 'H', 'H', 'H'],\n",
       "       ['14', 'S', 'S', 'S', 'S', 'S', 'H', 'H', 'H', 'H', 'H'],\n",
       "       ['15', 'S', 'S', 'S', 'S', 'S', 'H', 'H', 'H', 'R', 'R'],\n",
       "       ['16', 'S', 'S', 'S', 'S', 'S', 'H', 'H', 'R', 'R', 'R'],\n",
       "       ['17', 'S', 'S', 'S', 'S', 'S', 'S', 'S', 'S', 'S', 'R'],\n",
       "       ['18', 'S', 'S', 'S', 'S', 'S', 'S', 'S', 'S', 'S', 'S'],\n",
       "       ['19', 'S', 'S', 'S', 'S', 'S', 'S', 'S', 'S', 'S', 'S'],\n",
       "       ['20', 'S', 'S', 'S', 'S', 'S', 'S', 'S', 'S', 'S', 'S']],\n",
       "      dtype='<U2')"
      ]
     },
     "execution_count": 35,
     "metadata": {},
     "output_type": "execute_result"
    }
   ],
   "source": [
    "hard"
   ]
  },
  {
   "cell_type": "code",
   "execution_count": null,
   "id": "f590d815",
   "metadata": {},
   "outputs": [],
   "source": []
  }
 ],
 "metadata": {
  "kernelspec": {
   "display_name": "Python 3 (ipykernel)",
   "language": "python",
   "name": "python3"
  },
  "language_info": {
   "codemirror_mode": {
    "name": "ipython",
    "version": 3
   },
   "file_extension": ".py",
   "mimetype": "text/x-python",
   "name": "python",
   "nbconvert_exporter": "python",
   "pygments_lexer": "ipython3",
   "version": "3.9.0"
  }
 },
 "nbformat": 4,
 "nbformat_minor": 5
}
