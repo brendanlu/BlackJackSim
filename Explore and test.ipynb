{
 "cells": [
  {
   "cell_type": "code",
   "execution_count": 1,
   "id": "efaf714c-7c0f-4dd1-9643-30abd4e949f2",
   "metadata": {},
   "outputs": [],
   "source": [
    "import numpy as np\n",
    "%load_ext Cython"
   ]
  },
  {
   "cell_type": "code",
   "execution_count": 2,
   "id": "344c26b2",
   "metadata": {},
   "outputs": [],
   "source": [
    "# configurations\n",
    "NDECKS: int = 8\n",
    "NPLAYERS: int = 4 # affects how many cards you may be able to count\n",
    "BURNPROB: float = 1.0"
   ]
  },
  {
   "cell_type": "code",
   "execution_count": 35,
   "id": "ede77953-53c6-4740-b881-9e16dd86aae5",
   "metadata": {},
   "outputs": [],
   "source": [
    "\"\"\"\n",
    "We keep our representation of the deck and cards as characters, rather than grouping on BJ value\n",
    "Importantly, this means our framework remains flexible enough to add in weird house rules such as perfect pairs/flushes\n",
    "\"\"\"\n",
    "\n",
    "# We use bytestrings as our dtype so we can have a Cython memview over the numpy card stream of C char type\n",
    "cards = np.array(['2','3','4','5','6','7','8','9','T','J','Q','K','A'], dtype='S1') # use char T for 10 \n",
    "suits = np.array(['D', 'S', 'C', 'H'], dtype='S1')\n",
    "deck = np.array([np.char.add(cards, suit) for suit in suits], dtype='S2')\n",
    "stream = np.repeat(deck, NDECKS)"
   ]
  },
  {
   "cell_type": "code",
   "execution_count": 36,
   "id": "f492ef94-4ee5-4e05-88cb-3472bf9b9350",
   "metadata": {},
   "outputs": [
    {
     "name": "stdout",
     "output_type": "stream",
     "text": [
      "8.05 µs ± 35.3 ns per loop (mean ± std. dev. of 7 runs, 100,000 loops each)\n"
     ]
    }
   ],
   "source": [
    "rng = np.random.default_rng() # https://numpy.org/doc/stable/reference/random/index.html\n",
    "%timeit rng.shuffle(stream)"
   ]
  },
  {
   "cell_type": "code",
   "execution_count": 44,
   "id": "2d7a237a",
   "metadata": {},
   "outputs": [
    {
     "name": "stdout",
     "output_type": "stream",
     "text": [
      "69.2 µs ± 3.49 µs per loop (mean ± std. dev. of 7 runs, 10,000 loops each)\n"
     ]
    }
   ],
   "source": [
    "# bad idea to use value mapping after every shuffle\n",
    "values = np.array([2,3,4,5,6,7,8,9,10,10,10,10,11])\n",
    "dict_map = dict(zip(cards, values))\n",
    "%timeit np.array([dict_map[x[:1]] for x in stream]) # slicing byte string to get first char\n",
    "# %timeit np.vectorize(dict_map.get)(stream)"
   ]
  },
  {
   "cell_type": "code",
   "execution_count": 59,
   "id": "c1a92953",
   "metadata": {},
   "outputs": [],
   "source": [
    "%%cython \n",
    "import numpy as np\n",
    "cimport cython \n",
    "\n",
    "# Create a packed struct in C representing one card in the stream\n",
    "# https://cython.readthedocs.io/en/latest/src/userguide/memoryviews.html\n",
    "cdef packed struct card_dtype_struct: \n",
    "    char card\n",
    "    char suit\n",
    "\n",
    "\"\"\" \n",
    "C uses ascii integer representation for characters\n",
    "Numeric characters in our stream will have an ascii value less than ascii of 'a'\n",
    "English characters will have an ascii value greater than ascii of 'a'\n",
    "\"\"\"\n",
    "cdef int ASCII_A = 65 \n",
    "\n",
    "@cython.boundscheck(False)\n",
    "@cython.wraparound(False)\n",
    "def play_stream(card_dtype_struct[:] stream not None):\n",
    "    \n",
    "\n",
    "\n",
    "    if stream[0].card == b'2': \n",
    "        return 5\n",
    "    else:\n",
    "        return 3\n",
    "\n",
    "\n",
    "\n"
   ]
  },
  {
   "cell_type": "code",
   "execution_count": 49,
   "id": "14889b9d",
   "metadata": {},
   "outputs": [
    {
     "data": {
      "text/plain": [
       "array([b'2H', b'6S', b'JS', b'8S', b'5C', b'6S', b'9D', b'AS', b'JS',\n",
       "       b'QH', b'7H', b'TH', b'3H', b'6S', b'5S', b'JD', b'4C', b'KH',\n",
       "       b'QH', b'TC', b'KC', b'2D', b'7S', b'7S', b'5S', b'5D', b'TS',\n",
       "       b'AS', b'3S', b'4C', b'5S', b'8D', b'JS', b'2C', b'4H', b'AS',\n",
       "       b'8H', b'TH', b'5H', b'QC', b'3D', b'2H', b'2H', b'9H', b'8H',\n",
       "       b'4H', b'AC', b'8S', b'7H', b'6S'], dtype='|S2')"
      ]
     },
     "execution_count": 49,
     "metadata": {},
     "output_type": "execute_result"
    }
   ],
   "source": [
    "stream[:50]"
   ]
  },
  {
   "cell_type": "code",
   "execution_count": 57,
   "id": "4d1cd59c",
   "metadata": {},
   "outputs": [
    {
     "data": {
      "text/plain": [
       "5"
      ]
     },
     "execution_count": 57,
     "metadata": {},
     "output_type": "execute_result"
    }
   ],
   "source": [
    "play_stream(stream)"
   ]
  },
  {
   "cell_type": "code",
   "execution_count": null,
   "id": "f590d815",
   "metadata": {},
   "outputs": [],
   "source": []
  }
 ],
 "metadata": {
  "kernelspec": {
   "display_name": "Python 3 (ipykernel)",
   "language": "python",
   "name": "python3"
  },
  "language_info": {
   "codemirror_mode": {
    "name": "ipython",
    "version": 3
   },
   "file_extension": ".py",
   "mimetype": "text/x-python",
   "name": "python",
   "nbconvert_exporter": "python",
   "pygments_lexer": "ipython3",
   "version": "3.9.0"
  }
 },
 "nbformat": 4,
 "nbformat_minor": 5
}
