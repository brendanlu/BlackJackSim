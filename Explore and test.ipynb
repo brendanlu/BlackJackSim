{
 "cells": [
  {
   "cell_type": "code",
   "execution_count": 1,
   "id": "efaf714c-7c0f-4dd1-9643-30abd4e949f2",
   "metadata": {},
   "outputs": [],
   "source": [
    "import numpy as np\n",
    "%load_ext Cython"
   ]
  },
  {
   "cell_type": "code",
   "execution_count": 2,
   "id": "344c26b2",
   "metadata": {},
   "outputs": [],
   "source": [
    "\"\"\"\n",
    "Most of the BJ stuff should follow general game conventions. \n",
    "We initially model more intricate details (burning, shuffling protocol) based on local casino.\n",
    "https://www.crownmelbourne.com.au/getsydmedia/99be12f2-c48b-44dc-b6ba-ab5849f6f723/crown-melbourne-gaming-blackjack-rules_1.pdf?ext=.pdf\n",
    "https://en.wikipedia.org/wiki/Glossary_of_blackjack_terms\n",
    "\"\"\"\n",
    "\n",
    "# configurations\n",
    "NDECKS: int = 8\n",
    "# NPLAYERS: int = 4 # affects how many cards you may be able to count\n",
    "DECK_PENETRATION: int = 2 # typical number of decks dealt out before reshuffle"
   ]
  },
  {
   "cell_type": "code",
   "execution_count": 3,
   "id": "ede77953-53c6-4740-b881-9e16dd86aae5",
   "metadata": {},
   "outputs": [],
   "source": [
    "\"\"\"\n",
    "We keep our representation of the deck and cards as characters, rather than grouping on BJ value\n",
    "Importantly, this means our framework remains flexible enough to add in weird house rules such as perfect pairs/flushes\n",
    "\"\"\"\n",
    "cards = np.array(['2','3','4','5','6','7','8','9','T','J','Q','K','A']) # use char T for 10 \n",
    "suits = np.array(['D', 'S', 'C', 'H'])\n",
    "deck = np.array([np.char.add(cards, suit) for suit in suits]).ravel()\n",
    "shoe = np.repeat(deck, NDECKS)\n",
    "\n",
    "# We use bytestrings to enable Cython memview of C char[2] dtypes\n",
    "shoe = shoe.astype('S2')\n",
    "\n",
    "numcardsdeal = len(deck) * DECK_PENETRATION"
   ]
  },
  {
   "cell_type": "code",
   "execution_count": 4,
   "id": "f492ef94-4ee5-4e05-88cb-3472bf9b9350",
   "metadata": {},
   "outputs": [
    {
     "name": "stdout",
     "output_type": "stream",
     "text": [
      "8.67 µs ± 546 ns per loop (mean ± std. dev. of 7 runs, 100,000 loops each)\n"
     ]
    }
   ],
   "source": [
    "rng = np.random.default_rng() # https://numpy.org/doc/stable/reference/random/index.html\n",
    "%timeit rng.shuffle(shoe)"
   ]
  },
  {
   "cell_type": "code",
   "execution_count": 5,
   "id": "2d7a237a",
   "metadata": {},
   "outputs": [
    {
     "name": "stdout",
     "output_type": "stream",
     "text": [
      "64.8 µs ± 1.99 µs per loop (mean ± std. dev. of 7 runs, 10,000 loops each)\n"
     ]
    }
   ],
   "source": [
    "# bad idea to use value mapping after every shuffle\n",
    "values = np.array([2,3,4,5,6,7,8,9,10,10,10,10,11])\n",
    "dict_map = dict(zip(cards.astype('S1'), values))\n",
    "%timeit np.array([dict_map[x[:1]] for x in shoe]) # slicing byte string to get first char\n",
    "# %timeit np.vectorize(dict_map.get)(shoe)"
   ]
  },
  {
   "cell_type": "code",
   "execution_count": 9,
   "id": "5d9ca7a3",
   "metadata": {},
   "outputs": [],
   "source": [
    "# may change to use numpy to read-in csv, to avoid pandas dependency\n",
    "import pandas as pd\n",
    "strat = pd.read_csv(r\"StrategyInput\\BasicNoDeviations-4to8Decks-HitSoft17.csv\", header=None)\n",
    "\n",
    "\"\"\"\n",
    "Read in the individual strategy tables, and set top left corner position to 0.\n",
    "\"\"\"\n",
    "hard = strat.iloc[0:18, :].copy().reset_index(drop=True)\n",
    "hard[0][0] = '0'\n",
    "hard = hard.values.astype(str)\n",
    "hrd = hard[1:,1:].astype('S1')\n",
    "\n",
    "soft = strat.iloc[18:27, :].copy().reset_index(drop=True)\n",
    "soft[0][0] = '0'\n",
    "soft = soft.values.astype(str)\n",
    "sft = soft[1:,1:].astype('S1')\n",
    "\n",
    "splits = strat.iloc[27:38, :].copy().reset_index(drop=True)\n",
    "splits[0][0] = '0'\n",
    "splits = splits.values.astype(str)\n",
    "splts = splits[1:,1:].astype('S1')"
   ]
  },
  {
   "cell_type": "code",
   "execution_count": 14,
   "id": "0c18110b",
   "metadata": {},
   "outputs": [],
   "source": [
    "count = pd.read_csv(r\"StrategyInput\\HiLoCount.csv\", header=None)\n",
    "cnt = count.iloc[:,1].values.astype(float)"
   ]
  },
  {
   "cell_type": "code",
   "execution_count": 41,
   "id": "c1a92953",
   "metadata": {},
   "outputs": [
    {
     "ename": "TypeError",
     "evalue": "'str' object cannot be interpreted as an integer",
     "output_type": "error",
     "traceback": [
      "\u001b[1;31m---------------------------------------------------------------------------\u001b[0m",
      "\u001b[1;31mTypeError\u001b[0m                                 Traceback (most recent call last)",
      "Cell \u001b[1;32mIn[41], line 1\u001b[0m\n\u001b[1;32m----> 1\u001b[0m get_ipython()\u001b[39m.\u001b[39;49mrun_cell_magic(\u001b[39m'\u001b[39;49m\u001b[39mcython\u001b[39;49m\u001b[39m'\u001b[39;49m, \u001b[39m'\u001b[39;49m\u001b[39m--cplus\u001b[39;49m\u001b[39m'\u001b[39;49m, \u001b[39m'\u001b[39;49m\u001b[39mimport numpy as np\u001b[39;49m\u001b[39m\\n\u001b[39;49;00m\u001b[39mcimport cython \u001b[39;49m\u001b[39m\\n\u001b[39;49;00m\u001b[39mfrom libcpp.unordered_map cimport unordered_map # we use the map from the C++ STL - quicker than Python dict\u001b[39;49m\u001b[39m\\n\u001b[39;49;00m\u001b[39m\\n\u001b[39;49;00m\u001b[39mctypedef unordered_map[char, Py_ssize_t] parse_char_t # create a mapping type for our char bytes\u001b[39;49m\u001b[39m\\n\u001b[39;49;00m\u001b[39mctypedef unordered_map[int, Py_ssize_t] get_idx_t # get indexes based on hard values\u001b[39;49m\u001b[39m\\n\u001b[39;49;00m\u001b[39m\\n\u001b[39;49;00m\u001b[39m# Create a packed struct in C representing one card in the shoe\u001b[39;49m\u001b[39m\\n\u001b[39;49;00m\u001b[39m# https://cython.readthedocs.io/en/latest/src/userguide/memoryviews.html\u001b[39;49m\u001b[39m\\n\u001b[39;49;00m\u001b[39mcdef packed struct card_dtype_struct: \u001b[39;49m\u001b[39m\\n\u001b[39;49;00m\u001b[39m    char face\u001b[39;49m\u001b[39m\\n\u001b[39;49;00m\u001b[39m    char suit\u001b[39;49m\u001b[39m\\n\u001b[39;49;00m\u001b[39m\\n\u001b[39;49;00m\u001b[39m# C uses ascii integer representation for characters\u001b[39;49m\u001b[39m\\n\u001b[39;49;00m\u001b[39m# Numeric characters in our shoe will have an ascii value less than ascii of \u001b[39;49m\u001b[39m\\'\u001b[39;49;00m\u001b[39ma\u001b[39;49m\u001b[39m\\'\u001b[39;49;00m\u001b[39m\\n\u001b[39;49;00m\u001b[39m# English characters will have an ascii value greater than ascii of \u001b[39;49m\u001b[39m\\'\u001b[39;49;00m\u001b[39ma\u001b[39;49m\u001b[39m\\'\u001b[39;49;00m\u001b[39m\\n\u001b[39;49;00m\u001b[39m# https://www.cs.cmu.edu/~pattis/15-1XX/common/handouts/ascii.html\u001b[39;49m\u001b[39m\\n\u001b[39;49;00m\u001b[39mcdef int ASCII_A = 65 \u001b[39;49m\u001b[39m\\n\u001b[39;49;00m\u001b[39m\\n\u001b[39;49;00m\u001b[39m# Map dealer upcard to vertical (second dimension - C order) index\u001b[39;49m\u001b[39m\\n\u001b[39;49;00m\u001b[39mcdef parse_char_t dealer_idx\u001b[39;49m\u001b[39m\\n\u001b[39;49;00m\u001b[39mdealer_idx.insert(\u001b[39;49m\u001b[39m{\u001b[39;49m\u001b[39m\\'\u001b[39;49;00m\u001b[39m2\u001b[39;49m\u001b[39m\\'\u001b[39;49;00m\u001b[39m, 0})\u001b[39;49m\u001b[39m\\n\u001b[39;49;00m\u001b[39mdealer_idx.insert(\u001b[39;49m\u001b[39m{\u001b[39;49m\u001b[39m\\'\u001b[39;49;00m\u001b[39m3\u001b[39;49m\u001b[39m\\'\u001b[39;49;00m\u001b[39m, 1})\u001b[39;49m\u001b[39m\\n\u001b[39;49;00m\u001b[39mdealer_idx.insert(\u001b[39;49m\u001b[39m{\u001b[39;49m\u001b[39m\\'\u001b[39;49;00m\u001b[39m4\u001b[39;49m\u001b[39m\\'\u001b[39;49;00m\u001b[39m, 2})\u001b[39;49m\u001b[39m\\n\u001b[39;49;00m\u001b[39mdealer_idx.insert(\u001b[39;49m\u001b[39m{\u001b[39;49m\u001b[39m\\'\u001b[39;49;00m\u001b[39m5\u001b[39;49m\u001b[39m\\'\u001b[39;49;00m\u001b[39m, 3})\u001b[39;49m\u001b[39m\\n\u001b[39;49;00m\u001b[39mdealer_idx.insert(\u001b[39;49m\u001b[39m{\u001b[39;49m\u001b[39m\\'\u001b[39;49;00m\u001b[39m6\u001b[39;49m\u001b[39m\\'\u001b[39;49;00m\u001b[39m, 4})\u001b[39;49m\u001b[39m\\n\u001b[39;49;00m\u001b[39mdealer_idx.insert(\u001b[39;49m\u001b[39m{\u001b[39;49m\u001b[39m\\'\u001b[39;49;00m\u001b[39m7\u001b[39;49m\u001b[39m\\'\u001b[39;49;00m\u001b[39m, 5})\u001b[39;49m\u001b[39m\\n\u001b[39;49;00m\u001b[39mdealer_idx.insert(\u001b[39;49m\u001b[39m{\u001b[39;49m\u001b[39m\\'\u001b[39;49;00m\u001b[39m8\u001b[39;49m\u001b[39m\\'\u001b[39;49;00m\u001b[39m, 6})\u001b[39;49m\u001b[39m\\n\u001b[39;49;00m\u001b[39mdealer_idx.insert(\u001b[39;49m\u001b[39m{\u001b[39;49m\u001b[39m\\'\u001b[39;49;00m\u001b[39m9\u001b[39;49m\u001b[39m\\'\u001b[39;49;00m\u001b[39m, 7})\u001b[39;49m\u001b[39m\\n\u001b[39;49;00m\u001b[39mdealer_idx.insert(\u001b[39;49m\u001b[39m{\u001b[39;49m\u001b[39m\\'\u001b[39;49;00m\u001b[39mT\u001b[39;49m\u001b[39m\\'\u001b[39;49;00m\u001b[39m, 8})\u001b[39;49m\u001b[39m\\n\u001b[39;49;00m\u001b[39mdealer_idx.insert(\u001b[39;49m\u001b[39m{\u001b[39;49m\u001b[39m\\'\u001b[39;49;00m\u001b[39mJ\u001b[39;49m\u001b[39m\\'\u001b[39;49;00m\u001b[39m, 8})\u001b[39;49m\u001b[39m\\n\u001b[39;49;00m\u001b[39mdealer_idx.insert(\u001b[39;49m\u001b[39m{\u001b[39;49m\u001b[39m\\'\u001b[39;49;00m\u001b[39mQ\u001b[39;49m\u001b[39m\\'\u001b[39;49;00m\u001b[39m, 8})\u001b[39;49m\u001b[39m\\n\u001b[39;49;00m\u001b[39mdealer_idx.insert(\u001b[39;49m\u001b[39m{\u001b[39;49m\u001b[39m\\'\u001b[39;49;00m\u001b[39mK\u001b[39;49m\u001b[39m\\'\u001b[39;49;00m\u001b[39m, 8})\u001b[39;49m\u001b[39m\\n\u001b[39;49;00m\u001b[39mdealer_idx.insert(\u001b[39;49m\u001b[39m{\u001b[39;49m\u001b[39m\\'\u001b[39;49;00m\u001b[39mA\u001b[39;49m\u001b[39m\\'\u001b[39;49;00m\u001b[39m, 9})\u001b[39;49m\u001b[39m\\n\u001b[39;49;00m\u001b[39m\\n\u001b[39;49;00m\u001b[39m# function decorators to turn off various things, in the interest of speed\u001b[39;49m\u001b[39m\\n\u001b[39;49;00m\u001b[39m# https://cython.readthedocs.io/en/latest/src/userguide/source_files_and_compilation.html#compiler-directives\u001b[39;49m\u001b[39m\\n\u001b[39;49;00m\u001b[39m@cython.boundscheck(False)\u001b[39;49m\u001b[39m\\n\u001b[39;49;00m\u001b[39m@cython.wraparound(False)\u001b[39;49m\u001b[39m\\n\u001b[39;49;00m\u001b[39m@cython.initializedcheck(False)\u001b[39;49m\u001b[39m\\n\u001b[39;49;00m\u001b[39mdef play_shoe(\u001b[39;49m\u001b[39m\\n\u001b[39;49;00m\u001b[39m    card_dtype_struct[:] shoe not None, \u001b[39;49m\u001b[39m\\n\u001b[39;49;00m\u001b[39m    int numcardsdeal, \u001b[39;49m\u001b[39m\\n\u001b[39;49;00m\u001b[39m    # We make sure our views have C contiguous order\u001b[39;49m\u001b[39m\\n\u001b[39;49;00m\u001b[39m    # https://cython.readthedocs.io/en/latest/src/userguide/memoryviews.html\u001b[39;49m\u001b[39m\\n\u001b[39;49;00m\u001b[39m    char[:,::1] hrd not None, \u001b[39;49m\u001b[39m\\n\u001b[39;49;00m\u001b[39m    char[:,::1] sft not None, \u001b[39;49m\u001b[39m\\n\u001b[39;49;00m\u001b[39m    char[:,::1] splt not None, \u001b[39;49m\u001b[39m\\n\u001b[39;49;00m\u001b[39m    double[:] cnt not None):\u001b[39;49m\u001b[39m\\n\u001b[39;49;00m\u001b[39m    \u001b[39;49m\u001b[39m\"\u001b[39;49m\u001b[39m\"\u001b[39;49m\u001b[39m\"\u001b[39;49m\u001b[39m\\n\u001b[39;49;00m\u001b[39m    Simulate playing one shuffled shoe, until a cut card is drawn. \u001b[39;49m\u001b[39m\\n\u001b[39;49;00m\u001b[39m    For now, return to main Python loop for reshuffle. \u001b[39;49m\u001b[39m\\n\u001b[39;49;00m\u001b[39m\\n\u001b[39;49;00m\u001b[39m    Inputs: (REFER TO TEMPLATE FILES IN STRATEGY INPUT)\u001b[39;49m\u001b[39m\\n\u001b[39;49;00m\u001b[39m        - \u001b[39;49m\u001b[39m\\'\u001b[39;49;00m\u001b[39mshoe\u001b[39;49m\u001b[39m\\'\u001b[39;49;00m\u001b[39m: numpy array (buffer) of char[2] byte strings\u001b[39;49m\u001b[39m\\n\u001b[39;49;00m\u001b[39m        - \u001b[39;49m\u001b[39m\\'\u001b[39;49;00m\u001b[39mnumcardsdeal\u001b[39;49m\u001b[39m\\'\u001b[39;49;00m\u001b[39m: int, simulates the depth of the cut card\u001b[39;49m\u001b[39m\\n\u001b[39;49;00m\u001b[39m        - \u001b[39;49m\u001b[39m\\'\u001b[39;49;00m\u001b[39mhrd\u001b[39;49m\u001b[39m\\'\u001b[39;49;00m\u001b[39m: numpy array (buffer) of char bytes, in the input format dictating BJ action on player hard hand\u001b[39;49m\u001b[39m\\n\u001b[39;49;00m\u001b[39m        - \u001b[39;49m\u001b[39m\\'\u001b[39;49;00m\u001b[39msft\u001b[39;49m\u001b[39m\\'\u001b[39;49;00m\u001b[39m: numpy array (buffer) of char bytes, in the input format dictating BJ action on player soft hand\u001b[39;49m\u001b[39m\\n\u001b[39;49;00m\u001b[39m        - \u001b[39;49m\u001b[39m\\'\u001b[39;49;00m\u001b[39msplt\u001b[39;49m\u001b[39m\\'\u001b[39;49;00m\u001b[39m: numpy array (buffer) of char bytes, in the input format dictating BJ action on player paired hand\u001b[39;49m\u001b[39m\\n\u001b[39;49;00m\u001b[39m        - \u001b[39;49m\u001b[39m\\'\u001b[39;49;00m\u001b[39mcnt\u001b[39;49m\u001b[39m\\'\u001b[39;49;00m\u001b[39m: numpy array (buffer) of double (Python float6), in the input format, with count values\u001b[39;49m\u001b[39m\\n\u001b[39;49;00m\u001b[39m    \u001b[39;49m\u001b[39m\"\u001b[39;49m\u001b[39m\"\u001b[39;49m\u001b[39m\"\u001b[39;49m\u001b[39m\\n\u001b[39;49;00m\u001b[39m    cdef Py_ssize_t dealt = 0 # track what has been \u001b[39;49m\u001b[39m\\'\u001b[39;49;00m\u001b[39mdealt\u001b[39;49m\u001b[39m\\'\u001b[39;49;00m\u001b[39m from shoe\u001b[39;49m\u001b[39m\\n\u001b[39;49;00m\u001b[39m    cdef double count = 0 # card count\u001b[39;49m\u001b[39m\\n\u001b[39;49;00m\u001b[39m    \u001b[39;49m\u001b[39m\\n\u001b[39;49;00m\u001b[39m    \u001b[39;49m\u001b[39m\\n\u001b[39;49;00m\u001b[39m\\n\u001b[39;49;00m\u001b[39m    # this should roughly simulate a \u001b[39;49m\u001b[39m\\'\u001b[39;49;00m\u001b[39mcut card\u001b[39;49m\u001b[39m\\'\u001b[39;49;00m\u001b[39m\\n\u001b[39;49;00m\u001b[39m    # we have to exceed the cut position prior to dealing\u001b[39;49m\u001b[39m\\n\u001b[39;49;00m\u001b[39m    # while dealt < numcardsdeal:\u001b[39;49m\u001b[39m\\n\u001b[39;49;00m\u001b[39m        \u001b[39;49m\u001b[39m\\n\u001b[39;49;00m\u001b[39m\\n\u001b[39;49;00m\u001b[39m\\n\u001b[39;49;00m\u001b[39m'\u001b[39;49m)\n",
      "File \u001b[1;32mc:\\Users\\tp\\AppData\\Local\\Programs\\Python\\Python39\\lib\\site-packages\\IPython\\core\\interactiveshell.py:2422\u001b[0m, in \u001b[0;36mInteractiveShell.run_cell_magic\u001b[1;34m(self, magic_name, line, cell)\u001b[0m\n\u001b[0;32m   2420\u001b[0m \u001b[39mwith\u001b[39;00m \u001b[39mself\u001b[39m\u001b[39m.\u001b[39mbuiltin_trap:\n\u001b[0;32m   2421\u001b[0m     args \u001b[39m=\u001b[39m (magic_arg_s, cell)\n\u001b[1;32m-> 2422\u001b[0m     result \u001b[39m=\u001b[39m fn(\u001b[39m*\u001b[39margs, \u001b[39m*\u001b[39m\u001b[39m*\u001b[39mkwargs)\n\u001b[0;32m   2423\u001b[0m \u001b[39mreturn\u001b[39;00m result\n",
      "File \u001b[1;32mc:\\Users\\tp\\AppData\\Local\\Programs\\Python\\Python39\\lib\\site-packages\\Cython\\Build\\IpythonMagic.py:351\u001b[0m, in \u001b[0;36mCythonMagics.cython\u001b[1;34m(self, line, cell)\u001b[0m\n\u001b[0;32m    347\u001b[0m \u001b[39mexcept\u001b[39;00m distutils\u001b[39m.\u001b[39merrors\u001b[39m.\u001b[39mCompileError:\n\u001b[0;32m    348\u001b[0m     \u001b[39m# Build failed and printed error message\u001b[39;00m\n\u001b[0;32m    349\u001b[0m     \u001b[39mreturn\u001b[39;00m \u001b[39mNone\u001b[39;00m\n\u001b[1;32m--> 351\u001b[0m module \u001b[39m=\u001b[39m imp\u001b[39m.\u001b[39;49mload_dynamic(module_name, module_path)\n\u001b[0;32m    352\u001b[0m \u001b[39mself\u001b[39m\u001b[39m.\u001b[39m_import_all(module)\n\u001b[0;32m    354\u001b[0m \u001b[39mif\u001b[39;00m args\u001b[39m.\u001b[39mannotate:\n",
      "File \u001b[1;32mc:\\Users\\tp\\AppData\\Local\\Programs\\Python\\Python39\\lib\\imp.py:342\u001b[0m, in \u001b[0;36mload_dynamic\u001b[1;34m(name, path, file)\u001b[0m\n\u001b[0;32m    338\u001b[0m \u001b[39m# Issue #24748: Skip the sys.modules check in _load_module_shim;\u001b[39;00m\n\u001b[0;32m    339\u001b[0m \u001b[39m# always load new extension\u001b[39;00m\n\u001b[0;32m    340\u001b[0m spec \u001b[39m=\u001b[39m importlib\u001b[39m.\u001b[39mmachinery\u001b[39m.\u001b[39mModuleSpec(\n\u001b[0;32m    341\u001b[0m     name\u001b[39m=\u001b[39mname, loader\u001b[39m=\u001b[39mloader, origin\u001b[39m=\u001b[39mpath)\n\u001b[1;32m--> 342\u001b[0m \u001b[39mreturn\u001b[39;00m _load(spec)\n",
      "File \u001b[1;32m<frozen importlib._bootstrap>:711\u001b[0m, in \u001b[0;36m_load\u001b[1;34m(spec)\u001b[0m\n",
      "File \u001b[1;32m<frozen importlib._bootstrap>:680\u001b[0m, in \u001b[0;36m_load_unlocked\u001b[1;34m(spec)\u001b[0m\n",
      "File \u001b[1;32m<frozen importlib._bootstrap_external>:1116\u001b[0m, in \u001b[0;36mexec_module\u001b[1;34m(self, module)\u001b[0m\n",
      "File \u001b[1;32m<frozen importlib._bootstrap>:228\u001b[0m, in \u001b[0;36m_call_with_frames_removed\u001b[1;34m(f, *args, **kwds)\u001b[0m\n",
      "File \u001b[1;32m_cython_magic_51fe528ed570af26bad48588392c37be.pyx:22\u001b[0m, in \u001b[0;36minit _cython_magic_51fe528ed570af26bad48588392c37be\u001b[1;34m()\u001b[0m\n",
      "File \u001b[1;32mstringsource:147\u001b[0m, in \u001b[0;36mpair.from_py.__pyx_convert_pair_from_py_char__and_Py_ssize_t\u001b[1;34m()\u001b[0m\n",
      "\u001b[1;31mTypeError\u001b[0m: 'str' object cannot be interpreted as an integer"
     ]
    }
   ],
   "source": [
    "%%cython --cplus\n",
    "import numpy as np\n",
    "cimport cython \n",
    "from libcpp.unordered_map cimport unordered_map # we use the map from the C++ STL - quicker than Python dict\n",
    "\n",
    "ctypedef unordered_map[char, Py_ssize_t] parse_char_t # create a mapping type for our char bytes\n",
    "ctypedef unordered_map[int, Py_ssize_t] get_idx_t # get indexes based on hard values\n",
    "\n",
    "# Create a packed struct in C representing one card in the shoe\n",
    "# https://cython.readthedocs.io/en/latest/src/userguide/memoryviews.html\n",
    "cdef packed struct card_dtype_struct: \n",
    "    char face\n",
    "    char suit\n",
    "\n",
    "# C uses ascii integer representation for characters\n",
    "# Numeric characters in our shoe will have an ascii value less than ascii of 'a'\n",
    "# English characters will have an ascii value greater than ascii of 'a'\n",
    "# https://www.cs.cmu.edu/~pattis/15-1XX/common/handouts/ascii.html\n",
    "cdef int ASCII_A = 65 \n",
    "\n",
    "# Map dealer upcard to vertical (second dimension - C order) index\n",
    "cdef parse_char_t dealer_idx\n",
    "dealer_idx.insert({'2', 0})\n",
    "dealer_idx.insert({'3', 1})\n",
    "dealer_idx.insert({'4', 2})\n",
    "dealer_idx.insert({'5', 3})\n",
    "dealer_idx.insert({'6', 4})\n",
    "dealer_idx.insert({'7', 5})\n",
    "dealer_idx.insert({'8', 6})\n",
    "dealer_idx.insert({'9', 7})\n",
    "dealer_idx.insert({'T', 8})\n",
    "dealer_idx.insert({'J', 8})\n",
    "dealer_idx.insert({'Q', 8})\n",
    "dealer_idx.insert({'K', 8})\n",
    "dealer_idx.insert({'A', 9})\n",
    "\n",
    "# function decorators to turn off various things, in the interest of speed\n",
    "# https://cython.readthedocs.io/en/latest/src/userguide/source_files_and_compilation.html#compiler-directives\n",
    "@cython.boundscheck(False)\n",
    "@cython.wraparound(False)\n",
    "@cython.initializedcheck(False)\n",
    "def play_shoe(\n",
    "    card_dtype_struct[:] shoe not None, \n",
    "    int numcardsdeal, \n",
    "    # We make sure our views have C contiguous order\n",
    "    # https://cython.readthedocs.io/en/latest/src/userguide/memoryviews.html\n",
    "    char[:,::1] hrd not None, \n",
    "    char[:,::1] sft not None, \n",
    "    char[:,::1] splt not None, \n",
    "    double[:] cnt not None):\n",
    "    \"\"\"\n",
    "    Simulate playing one shuffled shoe, until a cut card is drawn. \n",
    "    For now, return to main Python loop for reshuffle. \n",
    "\n",
    "    Inputs: (REFER TO TEMPLATE FILES IN STRATEGY INPUT)\n",
    "        - 'shoe': numpy array (buffer) of char[2] byte strings\n",
    "        - 'numcardsdeal': int, simulates the depth of the cut card\n",
    "        - 'hrd': numpy array (buffer) of char bytes, in the input format dictating BJ action on player hard hand\n",
    "        - 'sft': numpy array (buffer) of char bytes, in the input format dictating BJ action on player soft hand\n",
    "        - 'splt': numpy array (buffer) of char bytes, in the input format dictating BJ action on player paired hand\n",
    "        - 'cnt': numpy array (buffer) of double (Python float6), in the input format, with count values\n",
    "    \"\"\"\n",
    "    cdef Py_ssize_t dealt = 0 # track what has been 'dealt' from shoe\n",
    "    cdef double count = 0 # card count\n",
    "    \n",
    "    \n",
    "\n",
    "    # this should roughly simulate a 'cut card'\n",
    "    # we have to exceed the cut position prior to dealing\n",
    "    # while dealt < numcardsdeal:\n",
    "        \n",
    "\n",
    "\n"
   ]
  },
  {
   "cell_type": "code",
   "execution_count": 35,
   "id": "ba82159f",
   "metadata": {},
   "outputs": [
    {
     "data": {
      "text/plain": [
       "array([['0', '2', '3', '4', '5', '6', '7', '8', '9', 'T', 'A'],\n",
       "       ['4', 'H', 'H', 'H', 'H', 'H', 'H', 'H', 'H', 'H', 'H'],\n",
       "       ['5', 'H', 'H', 'H', 'H', 'H', 'H', 'H', 'H', 'H', 'H'],\n",
       "       ['6', 'H', 'H', 'H', 'H', 'H', 'H', 'H', 'H', 'H', 'H'],\n",
       "       ['7', 'H', 'H', 'H', 'H', 'H', 'H', 'H', 'H', 'H', 'H'],\n",
       "       ['8', 'H', 'H', 'H', 'H', 'H', 'H', 'H', 'H', 'H', 'H'],\n",
       "       ['9', 'H', 'D', 'D', 'D', 'D', 'H', 'H', 'H', 'H', 'H'],\n",
       "       ['10', 'D', 'D', 'D', 'D', 'D', 'D', 'D', 'D', 'H', 'H'],\n",
       "       ['11', 'D', 'D', 'D', 'D', 'D', 'D', 'D', 'D', 'D', 'D'],\n",
       "       ['12', 'H', 'H', 'S', 'S', 'S', 'H', 'H', 'H', 'H', 'H'],\n",
       "       ['13', 'S', 'S', 'S', 'S', 'S', 'H', 'H', 'H', 'H', 'H'],\n",
       "       ['14', 'S', 'S', 'S', 'S', 'S', 'H', 'H', 'H', 'H', 'H'],\n",
       "       ['15', 'S', 'S', 'S', 'S', 'S', 'H', 'H', 'H', 'R', 'R'],\n",
       "       ['16', 'S', 'S', 'S', 'S', 'S', 'H', 'H', 'R', 'R', 'R'],\n",
       "       ['17', 'S', 'S', 'S', 'S', 'S', 'S', 'S', 'S', 'S', 'R'],\n",
       "       ['18', 'S', 'S', 'S', 'S', 'S', 'S', 'S', 'S', 'S', 'S'],\n",
       "       ['19', 'S', 'S', 'S', 'S', 'S', 'S', 'S', 'S', 'S', 'S'],\n",
       "       ['20', 'S', 'S', 'S', 'S', 'S', 'S', 'S', 'S', 'S', 'S']],\n",
       "      dtype='<U2')"
      ]
     },
     "execution_count": 35,
     "metadata": {},
     "output_type": "execute_result"
    }
   ],
   "source": [
    "hard"
   ]
  },
  {
   "cell_type": "code",
   "execution_count": null,
   "id": "360a2627",
   "metadata": {},
   "outputs": [],
   "source": []
  },
  {
   "cell_type": "code",
   "execution_count": null,
   "id": "c1d79400",
   "metadata": {},
   "outputs": [],
   "source": []
  },
  {
   "cell_type": "code",
   "execution_count": null,
   "id": "9efc63ef",
   "metadata": {},
   "outputs": [],
   "source": []
  },
  {
   "cell_type": "code",
   "execution_count": 20,
   "id": "de413e7c",
   "metadata": {},
   "outputs": [
    {
     "name": "stdout",
     "output_type": "stream",
     "text": [
      "1.0\n"
     ]
    }
   ],
   "source": [
    "play_shoe(shoe, numcardsdeal, hrd, sft, splts, cnt)"
   ]
  },
  {
   "cell_type": "code",
   "execution_count": null,
   "id": "14889b9d",
   "metadata": {},
   "outputs": [
    {
     "data": {
      "text/plain": [
       "array([b'QS', b'9S', b'8S', b'TS', b'9C', b'JS', b'4S', b'5H', b'6S',\n",
       "       b'6S', b'8C', b'JH', b'5H', b'2H', b'7H', b'JC', b'QS', b'6H',\n",
       "       b'KH', b'7C', b'JS', b'5D', b'KD', b'2H', b'9C', b'4H', b'AS',\n",
       "       b'KC', b'6C', b'6S', b'QC', b'8D', b'4D', b'5C', b'7H', b'9D',\n",
       "       b'QH', b'2H', b'7S', b'TD', b'TS', b'5C', b'8D', b'KS', b'7C',\n",
       "       b'AC', b'9D', b'TH', b'JS', b'8D'], dtype='|S2')"
      ]
     },
     "execution_count": 52,
     "metadata": {},
     "output_type": "execute_result"
    }
   ],
   "source": [
    "shoe[:50]"
   ]
  },
  {
   "cell_type": "code",
   "execution_count": 21,
   "id": "4d1cd59c",
   "metadata": {},
   "outputs": [
    {
     "data": {
      "text/plain": [
       "array([ 1.,  1.,  1.,  1.,  1.,  0.,  0.,  0., -1., -1., -1., -1., -1.])"
      ]
     },
     "execution_count": 21,
     "metadata": {},
     "output_type": "execute_result"
    }
   ],
   "source": [
    "cnt"
   ]
  },
  {
   "cell_type": "code",
   "execution_count": null,
   "id": "f590d815",
   "metadata": {},
   "outputs": [],
   "source": []
  }
 ],
 "metadata": {
  "kernelspec": {
   "display_name": "Python 3 (ipykernel)",
   "language": "python",
   "name": "python3"
  },
  "language_info": {
   "codemirror_mode": {
    "name": "ipython",
    "version": 3
   },
   "file_extension": ".py",
   "mimetype": "text/x-python",
   "name": "python",
   "nbconvert_exporter": "python",
   "pygments_lexer": "ipython3",
   "version": "3.9.0"
  }
 },
 "nbformat": 4,
 "nbformat_minor": 5
}
