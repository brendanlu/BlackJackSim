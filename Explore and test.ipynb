{
 "cells": [
  {
   "cell_type": "code",
   "execution_count": 1,
   "id": "efaf714c-7c0f-4dd1-9643-30abd4e949f2",
   "metadata": {},
   "outputs": [],
   "source": [
    "import numpy as np\n",
    "%load_ext Cython"
   ]
  },
  {
   "cell_type": "code",
   "execution_count": 2,
   "id": "344c26b2",
   "metadata": {},
   "outputs": [],
   "source": [
    "# configurations\n",
    "NDECKS: int = 8\n",
    "NPLAYERS: int = 4 # affects how many cards you may be able to count\n",
    "BURNPROB: float = 1.0"
   ]
  },
  {
   "cell_type": "code",
   "execution_count": 26,
   "id": "abceefb2",
   "metadata": {},
   "outputs": [
    {
     "data": {
      "text/plain": [
       "numpy.int8"
      ]
     },
     "execution_count": 26,
     "metadata": {},
     "output_type": "execute_result"
    }
   ],
   "source": [
    "np.byte"
   ]
  },
  {
   "cell_type": "code",
   "execution_count": 31,
   "id": "ede77953-53c6-4740-b881-9e16dd86aae5",
   "metadata": {},
   "outputs": [],
   "source": [
    "\"\"\"\n",
    "We keep our representation of the deck and cards as characters, rather than grouping on BJ value\n",
    "Importantly, this means our framework remains flexible enough to add in weird house rules such as perfect pairs/flushes\n",
    "\"\"\"\n",
    "\n",
    "# We use bytestrings as our dtype so we can have a Cython memview over the numpy card stream using C byte chars types\n",
    "cards = np.array(['2','3','4','5','6','7','8','9','T','J','Q','K','A'], dtype='S2') # use char T for 10 \n",
    "suits = np.array(['D', 'S', 'C', 'H'], dtype='S2')\n",
    "deck = np.array([np.char.add(cards, suit) for suit in suits], dtype='S2')\n",
    "stream = np.repeat(deck, NDECKS)"
   ]
  },
  {
   "cell_type": "code",
   "execution_count": 4,
   "id": "f492ef94-4ee5-4e05-88cb-3472bf9b9350",
   "metadata": {},
   "outputs": [
    {
     "name": "stdout",
     "output_type": "stream",
     "text": [
      "8.37 µs ± 534 ns per loop (mean ± std. dev. of 7 runs, 100,000 loops each)\n"
     ]
    }
   ],
   "source": [
    "rng = np.random.default_rng() # https://numpy.org/doc/stable/reference/random/index.html\n",
    "%timeit rng.shuffle(stream)"
   ]
  },
  {
   "cell_type": "code",
   "execution_count": 8,
   "id": "2d7a237a",
   "metadata": {},
   "outputs": [
    {
     "name": "stdout",
     "output_type": "stream",
     "text": [
      "145 µs ± 2.08 µs per loop (mean ± std. dev. of 7 runs, 10,000 loops each)\n"
     ]
    }
   ],
   "source": [
    "# bad idea to use value mapping after every shuffle\n",
    "values = np.array([2,3,4,5,6,7,8,9,10,10,10,10,11])\n",
    "dict_map = dict(zip(cards, values))\n",
    "%timeit np.array([dict_map[x[0]] for x in stream])\n",
    "# %timeit np.vectorize(dict_map.get)(stream)"
   ]
  },
  {
   "cell_type": "code",
   "execution_count": 29,
   "id": "c1a92953",
   "metadata": {},
   "outputs": [],
   "source": [
    "%%cython\n",
    "import numpy as np\n",
    "cimport cython \n",
    "\n",
    "# This is the equivalent of 'U2' it seems, compiler accepts it\n",
    "cdef packed struct card_dtype_struct: \n",
    "    char card\n",
    "    char suit\n",
    "\n",
    "\"\"\" \n",
    "C uses ascii integer representation for characters\n",
    "Numeric characters in our stream will have an ascii value less than ascii of 'a'\n",
    "English characters will have an ascii value greater than ascii of 'a'\n",
    "\"\"\"\n",
    "cdef int ASCII_A = 65 \n",
    "\n",
    "@cython.boundscheck(False)\n",
    "@cython.wraparound(False)\n",
    "def play_stream(card_dtype_struct[:] stream not None):\n",
    "    cdef Py_ssize_t i = 0  # track dealt out index\n",
    "    \n"
   ]
  },
  {
   "cell_type": "code",
   "execution_count": 32,
   "id": "4d1cd59c",
   "metadata": {},
   "outputs": [],
   "source": [
    "play_stream(stream)"
   ]
  },
  {
   "cell_type": "code",
   "execution_count": 12,
   "id": "3600b7a8-d863-43d8-9b6c-554603e9b2cb",
   "metadata": {},
   "outputs": [
    {
     "data": {
      "text/plain": [
       "array(['JH', '2C', '3S', 'AH', '6S', '9C', 'KS', '9C', 'KS', 'KD', '8C',\n",
       "       '4C', 'KD', '7D', 'TC', '4D', '9D', '4S', '3H', '4D', 'JS', '7D',\n",
       "       '8C', '7D', 'TD', 'AS', 'KS', 'AS', '8C', 'TS', '2C', 'AD', '2C',\n",
       "       '8C', '9C', '9D', '8C', '6H', '2C', '3C', '5H', '2S', '2H', '8H',\n",
       "       'AH', '5C', 'TH', '4H', 'AS', 'KH', '9S', '3C', '6S', '6C', 'QS',\n",
       "       'KD', '9D', 'TD', 'QS', 'KC', 'TC', '3D', '5S', '7S', '2S', '2H',\n",
       "       'JS', 'TS', '6H', '6D', '2D', '4C', '4H', 'QS', '3S', '4H', 'TS',\n",
       "       '8D', 'KD', '4D', 'JS', '4H', '9C', '9C', 'AD', '6S', '7H', '9H',\n",
       "       '7C', 'KS', '6H', 'QD', 'JH', '7H', 'JD', '5D', 'AC', 'TS', '6D',\n",
       "       '4D'], dtype='<U2')"
      ]
     },
     "execution_count": 12,
     "metadata": {},
     "output_type": "execute_result"
    }
   ],
   "source": [
    "stream[:100]"
   ]
  },
  {
   "cell_type": "code",
   "execution_count": 13,
   "id": "3f1db018",
   "metadata": {},
   "outputs": [
    {
     "ename": "TypeError",
     "evalue": "data type 'JH' not understood",
     "output_type": "error",
     "traceback": [
      "\u001b[1;31m---------------------------------------------------------------------------\u001b[0m",
      "\u001b[1;31mTypeError\u001b[0m                                 Traceback (most recent call last)",
      "Cell \u001b[1;32mIn[13], line 1\u001b[0m\n\u001b[1;32m----> 1\u001b[0m np\u001b[39m.\u001b[39;49mdtype(stream[\u001b[39m0\u001b[39;49m])\n",
      "\u001b[1;31mTypeError\u001b[0m: data type 'JH' not understood"
     ]
    }
   ],
   "source": [
    "np.dtype(stream[0])"
   ]
  }
 ],
 "metadata": {
  "kernelspec": {
   "display_name": "Python 3 (ipykernel)",
   "language": "python",
   "name": "python3"
  },
  "language_info": {
   "codemirror_mode": {
    "name": "ipython",
    "version": 3
   },
   "file_extension": ".py",
   "mimetype": "text/x-python",
   "name": "python",
   "nbconvert_exporter": "python",
   "pygments_lexer": "ipython3",
   "version": "3.9.0"
  }
 },
 "nbformat": 4,
 "nbformat_minor": 5
}
