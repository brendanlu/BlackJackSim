{
 "cells": [
  {
   "cell_type": "code",
   "execution_count": 1,
   "id": "efaf714c-7c0f-4dd1-9643-30abd4e949f2",
   "metadata": {},
   "outputs": [],
   "source": [
    "import numpy as np"
   ]
  },
  {
   "cell_type": "code",
   "execution_count": 2,
   "id": "ede77953-53c6-4740-b881-9e16dd86aae5",
   "metadata": {},
   "outputs": [],
   "source": [
    "deck = np.repeat(np.array(['2','3','4','5','6','7','8','9','10','J','Q','K','A']), 4)\n",
    "values = np.array([2,3,4,5,6,7,8,9,10,10,10,10,11])\n",
    "dict_map = dict(zip(deck, values))\n",
    "n_decks = 8\n",
    "stream = np.repeat(deck, n_decks)"
   ]
  },
  {
   "cell_type": "code",
   "execution_count": 3,
   "id": "f492ef94-4ee5-4e05-88cb-3472bf9b9350",
   "metadata": {},
   "outputs": [],
   "source": [
    "rng = np.random.default_rng() # https://numpy.org/doc/stable/reference/random/index.html\n",
    "rng.shuffle(stream)"
   ]
  },
  {
   "cell_type": "code",
   "execution_count": 8,
   "id": "1f35c4e4-2e8b-43ec-940b-2a4e1425bdb3",
   "metadata": {},
   "outputs": [
    {
     "name": "stdout",
     "output_type": "stream",
     "text": [
      "7.96 µs ± 62.6 ns per loop (mean ± std. dev. of 7 runs, 100,000 loops each)\n"
     ]
    }
   ],
   "source": [
    "%timeit rng.shuffle(stream)"
   ]
  },
  {
   "cell_type": "code",
   "execution_count": null,
   "id": "3600b7a8-d863-43d8-9b6c-554603e9b2cb",
   "metadata": {},
   "outputs": [],
   "source": []
  }
 ],
 "metadata": {
  "kernelspec": {
   "display_name": "Python 3 (ipykernel)",
   "language": "python",
   "name": "python3"
  },
  "language_info": {
   "codemirror_mode": {
    "name": "ipython",
    "version": 3
   },
   "file_extension": ".py",
   "mimetype": "text/x-python",
   "name": "python",
   "nbconvert_exporter": "python",
   "pygments_lexer": "ipython3",
   "version": "3.9.0"
  }
 },
 "nbformat": 4,
 "nbformat_minor": 5
}
