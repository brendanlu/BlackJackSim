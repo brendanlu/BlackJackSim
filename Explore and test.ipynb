{
 "cells": [
  {
   "cell_type": "code",
   "execution_count": 7,
   "id": "efaf714c-7c0f-4dd1-9643-30abd4e949f2",
   "metadata": {},
   "outputs": [],
   "source": [
    "import numpy as np\n",
    "%load_ext Cython"
   ]
  },
  {
   "cell_type": "code",
   "execution_count": 85,
   "id": "344c26b2",
   "metadata": {},
   "outputs": [],
   "source": [
    "\"\"\"\n",
    "Most of the BJ stuff should follow general game conventions. \n",
    "We initially model more intricate details (burning, shuffling protocol) based on local casino.\n",
    "https://www.crownmelbourne.com.au/getsydmedia/99be12f2-c48b-44dc-b6ba-ab5849f6f723/crown-melbourne-gaming-blackjack-rules_1.pdf?ext=.pdf\n",
    "\"\"\"\n",
    "\n",
    "# configurations\n",
    "NDECKS: int = 8\n",
    "# NPLAYERS: int = 4 # affects how many cards you may be able to count\n",
    "DECK_PENETRATION: int = 2 # typical number of decks dealt out before reshuffle"
   ]
  },
  {
   "cell_type": "code",
   "execution_count": 86,
   "id": "ede77953-53c6-4740-b881-9e16dd86aae5",
   "metadata": {},
   "outputs": [],
   "source": [
    "\"\"\"\n",
    "We keep our representation of the deck and cards as characters, rather than grouping on BJ value\n",
    "Importantly, this means our framework remains flexible enough to add in weird house rules such as perfect pairs/flushes\n",
    "\"\"\"\n",
    "cards = np.array(['2','3','4','5','6','7','8','9','T','J','Q','K','A']) # use char T for 10 \n",
    "suits = np.array(['D', 'S', 'C', 'H'])\n",
    "deck = np.array([np.char.add(cards, suit) for suit in suits]).ravel()\n",
    "shoe = np.repeat(deck, NDECKS)\n",
    "\n",
    "# We use bytestrings as our dtype so we can have a Cython memview over the numpy card shoe of C char type\n",
    "shoe = shoe.astype('S2')\n",
    "\n",
    "numcardsdeal = len(deck) * DECK_PENETRATION"
   ]
  },
  {
   "cell_type": "code",
   "execution_count": 68,
   "id": "f492ef94-4ee5-4e05-88cb-3472bf9b9350",
   "metadata": {},
   "outputs": [
    {
     "name": "stdout",
     "output_type": "stream",
     "text": [
      "8.2 µs ± 117 ns per loop (mean ± std. dev. of 7 runs, 100,000 loops each)\n"
     ]
    }
   ],
   "source": [
    "rng = np.random.default_rng() # https://numpy.org/doc/stable/reference/random/index.html\n",
    "%timeit rng.shuffle(shoe)"
   ]
  },
  {
   "cell_type": "code",
   "execution_count": 69,
   "id": "2d7a237a",
   "metadata": {},
   "outputs": [
    {
     "name": "stdout",
     "output_type": "stream",
     "text": [
      "65.2 µs ± 2.39 µs per loop (mean ± std. dev. of 7 runs, 10,000 loops each)\n"
     ]
    }
   ],
   "source": [
    "# bad idea to use value mapping after every shuffle\n",
    "values = np.array([2,3,4,5,6,7,8,9,10,10,10,10,11])\n",
    "dict_map = dict(zip(cards, values))\n",
    "%timeit np.array([dict_map[x[:1]] for x in shoe]) # slicing byte string to get first char\n",
    "# %timeit np.vectorize(dict_map.get)(shoe)"
   ]
  },
  {
   "cell_type": "code",
   "execution_count": 20,
   "id": "5d9ca7a3",
   "metadata": {},
   "outputs": [],
   "source": [
    "# see if we can manage using numpy to avoid an unecessary pandas dependency...for now...\n",
    "# chances are we may still use pandas later for analysis...\n"
   ]
  },
  {
   "cell_type": "code",
   "execution_count": 73,
   "id": "c1a92953",
   "metadata": {},
   "outputs": [],
   "source": [
    "%%cython \n",
    "import numpy as np\n",
    "cimport cython \n",
    "\n",
    "# Create a packed struct in C representing one card in the shoe\n",
    "# https://cython.readthedocs.io/en/latest/src/userguide/memoryviews.html\n",
    "cdef packed struct card_dtype_struct: \n",
    "    char face\n",
    "    char suit\n",
    "\n",
    "# C uses ascii integer representation for characters\n",
    "# Numeric characters in our shoe will have an ascii value less than ascii of 'a'\n",
    "# English characters will have an ascii value greater than ascii of 'a'\n",
    "cdef int ASCII_A = 65 \n",
    "\n",
    "@cython.boundscheck(False)\n",
    "@cython.wraparound(False)\n",
    "@cython.initializedcheck(False)\n",
    "def play_shoe(card_dtype_struct[:] shoe not None, int numcardsdeal):\n",
    "    \"\"\"\n",
    "    Simulate playing one shuffled shoe, until a cut card is drawn. \n",
    "    For now, return to main Python loop for reshuffle. \n",
    "    \"\"\"\n",
    "    cdef Py_ssize_t dealt = 0 # track what has been 'dealt' from shoe\n",
    "    cdef int = count # card count\n",
    "    \n",
    "    # this should roughly simulate a 'cut card'\n",
    "    # we have to exceed the cut position prior to dealing\n",
    "    while dealt < numcardsdeal: \n",
    "        \n",
    "\n",
    "    if shoe[0].face == b'5': \n",
    "        return 5\n",
    "    else:\n",
    "        return 3\n",
    "\n",
    "\n",
    "\n"
   ]
  },
  {
   "cell_type": "code",
   "execution_count": 72,
   "id": "14889b9d",
   "metadata": {},
   "outputs": [
    {
     "data": {
      "text/plain": [
       "array([b'5D', b'JH', b'7S', b'8C', b'3D', b'2H', b'KH', b'JS', b'AD',\n",
       "       b'8D', b'8C', b'AD', b'5S', b'2D', b'5C', b'QD', b'8H', b'4C',\n",
       "       b'QS', b'2S', b'KD', b'KD', b'3S', b'TH', b'2D', b'9S', b'9D',\n",
       "       b'4C', b'2D', b'AH', b'7C', b'AH', b'7H', b'5D', b'7C', b'TH',\n",
       "       b'QD', b'KC', b'4H', b'JH', b'9C', b'2S', b'JH', b'2C', b'TC',\n",
       "       b'3H', b'JD', b'4D', b'JH', b'JC'], dtype='|S2')"
      ]
     },
     "execution_count": 72,
     "metadata": {},
     "output_type": "execute_result"
    }
   ],
   "source": [
    "shoe[:50]"
   ]
  },
  {
   "cell_type": "code",
   "execution_count": 74,
   "id": "4d1cd59c",
   "metadata": {},
   "outputs": [
    {
     "data": {
      "text/plain": [
       "5"
      ]
     },
     "execution_count": 74,
     "metadata": {},
     "output_type": "execute_result"
    }
   ],
   "source": [
    "play_shoe(shoe, numcardsdeal)"
   ]
  },
  {
   "cell_type": "code",
   "execution_count": null,
   "id": "f590d815",
   "metadata": {},
   "outputs": [],
   "source": []
  }
 ],
 "metadata": {
  "kernelspec": {
   "display_name": "Python 3 (ipykernel)",
   "language": "python",
   "name": "python3"
  },
  "language_info": {
   "codemirror_mode": {
    "name": "ipython",
    "version": 3
   },
   "file_extension": ".py",
   "mimetype": "text/x-python",
   "name": "python",
   "nbconvert_exporter": "python",
   "pygments_lexer": "ipython3",
   "version": "3.9.0"
  }
 },
 "nbformat": 4,
 "nbformat_minor": 5
}
