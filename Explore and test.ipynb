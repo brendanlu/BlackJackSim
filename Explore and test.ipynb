{
 "cells": [
  {
   "cell_type": "code",
   "execution_count": 60,
   "id": "efaf714c-7c0f-4dd1-9643-30abd4e949f2",
   "metadata": {},
   "outputs": [
    {
     "name": "stdout",
     "output_type": "stream",
     "text": [
      "The Cython extension is already loaded. To reload it, use:\n",
      "  %reload_ext Cython\n"
     ]
    }
   ],
   "source": [
    "import numpy as np\n",
    "%load_ext Cython"
   ]
  },
  {
   "cell_type": "code",
   "execution_count": 61,
   "id": "344c26b2",
   "metadata": {},
   "outputs": [],
   "source": [
    "\"\"\"\n",
    "Most of the BJ stuff should follow general game conventions. \n",
    "We initially model more intricate details (burning, shuffling protocol) based on local casino.\n",
    "https://www.crownmelbourne.com.au/getsydmedia/99be12f2-c48b-44dc-b6ba-ab5849f6f723/crown-melbourne-gaming-blackjack-rules_1.pdf?ext=.pdf\n",
    "\"\"\"\n",
    "\n",
    "# configurations\n",
    "NDECKS: int = 8\n",
    "# NPLAYERS: int = 4 # affects how many cards you may be able to count\n",
    "DECK_PENETRATION: int = 2 # typical number of decks dealt out before reshuffle"
   ]
  },
  {
   "cell_type": "code",
   "execution_count": 68,
   "id": "ede77953-53c6-4740-b881-9e16dd86aae5",
   "metadata": {},
   "outputs": [],
   "source": [
    "\"\"\"\n",
    "We keep our representation of the deck and cards as characters, rather than grouping on BJ value\n",
    "Importantly, this means our framework remains flexible enough to add in weird house rules such as perfect pairs/flushes\n",
    "\"\"\"\n",
    "cards = np.array(['2','3','4','5','6','7','8','9','T','J','Q','K','A']) # use char T for 10 \n",
    "suits = np.array(['D', 'S', 'C', 'H'])\n",
    "deck = np.array([np.char.add(cards, suit) for suit in suits]).ravel()\n",
    "shoe = np.repeat(deck, NDECKS)\n",
    "\n",
    "# We use bytestrings as our dtype so we can have a Cython memview over the numpy card shoe of C char type\n",
    "shoe = shoe.astype('S2')\n",
    "\n",
    "numcardsdeal = len(deck) * DECK_PENETRATION"
   ]
  },
  {
   "cell_type": "code",
   "execution_count": 63,
   "id": "f492ef94-4ee5-4e05-88cb-3472bf9b9350",
   "metadata": {},
   "outputs": [
    {
     "name": "stdout",
     "output_type": "stream",
     "text": [
      "9.73 µs ± 104 ns per loop (mean ± std. dev. of 7 runs, 100,000 loops each)\n"
     ]
    }
   ],
   "source": [
    "rng = np.random.default_rng() # https://numpy.org/doc/stable/reference/random/index.html\n",
    "%timeit rng.shuffle(shoe)"
   ]
  },
  {
   "cell_type": "code",
   "execution_count": 70,
   "id": "2d7a237a",
   "metadata": {},
   "outputs": [
    {
     "name": "stdout",
     "output_type": "stream",
     "text": [
      "93.1 µs ± 3.26 µs per loop (mean ± std. dev. of 7 runs, 10,000 loops each)\n"
     ]
    }
   ],
   "source": [
    "# bad idea to use value mapping after every shuffle\n",
    "values = np.array([2,3,4,5,6,7,8,9,10,10,10,10,11])\n",
    "dict_map = dict(zip(cards.astype('S1'), values))\n",
    "%timeit np.array([dict_map[x[:1]] for x in shoe]) # slicing byte string to get first char\n",
    "# %timeit np.vectorize(dict_map.get)(shoe)"
   ]
  },
  {
   "cell_type": "code",
   "execution_count": 71,
   "id": "5d9ca7a3",
   "metadata": {},
   "outputs": [],
   "source": [
    "import pandas as pd\n",
    "strat = pd.read_csv(r\"StrategyInput\\BasicNoDeviations-4to8Decks-HitSoft17.csv\", header=None)\n",
    "\n",
    "\"\"\"\n",
    "Read in the individual strategy tables, and set top left corner position to 0.\n",
    "\"\"\"\n",
    "hard = strat.iloc[0:18, :].copy().reset_index(drop=True)\n",
    "hard[0][0] = '0'\n",
    "hard = hard.values.astype(str)\n",
    "\n",
    "soft = strat.iloc[18:27, :].copy().reset_index(drop=True)\n",
    "soft[0][0] = '0'\n",
    "soft = soft.values.astype(str)\n",
    "\n",
    "splits = strat.iloc[27:38, :].copy().reset_index(drop=True)\n",
    "splits[0][0] = '0'\n",
    "splits = splits.values.astype(str)"
   ]
  },
  {
   "cell_type": "code",
   "execution_count": null,
   "id": "8807fc8a",
   "metadata": {},
   "outputs": [
    {
     "data": {
      "text/plain": [
       "array([['0', '2', '3', '4', '5', '6', '7', '8', '9', 'T', 'A'],\n",
       "       ['13', 'H', 'H', 'H', 'D', 'D', 'H', 'H', 'H', 'H', 'H'],\n",
       "       ['14', 'H', 'H', 'H', 'D', 'D', 'H', 'H', 'H', 'H', 'H'],\n",
       "       ['15', 'H', 'H', 'D', 'D', 'D', 'H', 'H', 'H', 'H', 'H'],\n",
       "       ['16', 'H', 'H', 'D', 'D', 'D', 'H', 'H', 'H', 'H', 'H'],\n",
       "       ['17', 'H', 'D', 'D', 'D', 'D', 'H', 'H', 'H', 'H', 'H'],\n",
       "       ['18', 'D', 'D', 'D', 'D', 'D', 'S', 'S', 'H', 'H', 'H'],\n",
       "       ['19', 'S', 'S', 'S', 'S', 'D', 'S', 'S', 'S', 'S', 'S'],\n",
       "       ['20', 'S', 'S', 'S', 'S', 'S', 'S', 'S', 'S', 'S', 'S']],\n",
       "      dtype='<U2')"
      ]
     },
     "execution_count": 59,
     "metadata": {},
     "output_type": "execute_result"
    }
   ],
   "source": [
    "soft"
   ]
  },
  {
   "cell_type": "code",
   "execution_count": 76,
   "id": "c1a92953",
   "metadata": {},
   "outputs": [],
   "source": [
    "%%cython \n",
    "import numpy as np\n",
    "cimport cython \n",
    "\n",
    "# Create a packed struct in C representing one card in the shoe\n",
    "# https://cython.readthedocs.io/en/latest/src/userguide/memoryviews.html\n",
    "cdef packed struct card_dtype_struct: \n",
    "    char face\n",
    "    char suit\n",
    "\n",
    "# C uses ascii integer representation for characters\n",
    "# Numeric characters in our shoe will have an ascii value less than ascii of 'a'\n",
    "# English characters will have an ascii value greater than ascii of 'a'\n",
    "# https://www.cs.cmu.edu/~pattis/15-1XX/common/handouts/ascii.html\n",
    "cdef int ASCII_A = 65 \n",
    "\n",
    "@cython.boundscheck(False)\n",
    "@cython.wraparound(False)\n",
    "@cython.initializedcheck(False)\n",
    "def play_shoe(card_dtype_struct[:] shoe not None, int numcardsdeal, char[:,:] hrd not None, \n",
    "                char[:,:] sft not None, char[:,:] splt not None):\n",
    "    \"\"\"\n",
    "    Simulate playing one shuffled shoe, until a cut card is drawn. \n",
    "    For now, return to main Python loop for reshuffle. \n",
    "    \"\"\"\n",
    "    cdef Py_ssize_t dealt = 0 # track what has been 'dealt' from shoe\n",
    "    cdef int count = 0 # card count\n",
    "    \n",
    "    # this should roughly simulate a 'cut card'\n",
    "    # we have to exceed the cut position prior to dealing\n",
    "    while dealt < numcardsdeal:\n",
    "        \n",
    "\n",
    "\n"
   ]
  },
  {
   "cell_type": "code",
   "execution_count": 79,
   "id": "de413e7c",
   "metadata": {},
   "outputs": [
    {
     "name": "stdout",
     "output_type": "stream",
     "text": [
      "{'face': 50, 'suit': 68}\n",
      "72\n"
     ]
    }
   ],
   "source": [
    "play_shoe(shoe, numcardsdeal, hard[1:,1:].astype('S1'), soft[1:,1:].astype('S1'), splits[1:,1:].astype('S1'))"
   ]
  },
  {
   "cell_type": "code",
   "execution_count": null,
   "id": "14889b9d",
   "metadata": {},
   "outputs": [
    {
     "data": {
      "text/plain": [
       "array([b'QS', b'9S', b'8S', b'TS', b'9C', b'JS', b'4S', b'5H', b'6S',\n",
       "       b'6S', b'8C', b'JH', b'5H', b'2H', b'7H', b'JC', b'QS', b'6H',\n",
       "       b'KH', b'7C', b'JS', b'5D', b'KD', b'2H', b'9C', b'4H', b'AS',\n",
       "       b'KC', b'6C', b'6S', b'QC', b'8D', b'4D', b'5C', b'7H', b'9D',\n",
       "       b'QH', b'2H', b'7S', b'TD', b'TS', b'5C', b'8D', b'KS', b'7C',\n",
       "       b'AC', b'9D', b'TH', b'JS', b'8D'], dtype='|S2')"
      ]
     },
     "execution_count": 52,
     "metadata": {},
     "output_type": "execute_result"
    }
   ],
   "source": [
    "shoe[:50]"
   ]
  },
  {
   "cell_type": "code",
   "execution_count": 78,
   "id": "4d1cd59c",
   "metadata": {},
   "outputs": [
    {
     "data": {
      "text/plain": [
       "array([['H', 'H', 'H', 'H', 'H', 'H', 'H', 'H', 'H', 'H'],\n",
       "       ['H', 'H', 'H', 'H', 'H', 'H', 'H', 'H', 'H', 'H'],\n",
       "       ['H', 'H', 'H', 'H', 'H', 'H', 'H', 'H', 'H', 'H'],\n",
       "       ['H', 'H', 'H', 'H', 'H', 'H', 'H', 'H', 'H', 'H'],\n",
       "       ['H', 'H', 'H', 'H', 'H', 'H', 'H', 'H', 'H', 'H'],\n",
       "       ['H', 'D', 'D', 'D', 'D', 'H', 'H', 'H', 'H', 'H'],\n",
       "       ['D', 'D', 'D', 'D', 'D', 'D', 'D', 'D', 'H', 'H'],\n",
       "       ['D', 'D', 'D', 'D', 'D', 'D', 'D', 'D', 'D', 'D'],\n",
       "       ['H', 'H', 'S', 'S', 'S', 'H', 'H', 'H', 'H', 'H'],\n",
       "       ['S', 'S', 'S', 'S', 'S', 'H', 'H', 'H', 'H', 'H'],\n",
       "       ['S', 'S', 'S', 'S', 'S', 'H', 'H', 'H', 'H', 'H'],\n",
       "       ['S', 'S', 'S', 'S', 'S', 'H', 'H', 'H', 'R', 'R'],\n",
       "       ['S', 'S', 'S', 'S', 'S', 'H', 'H', 'R', 'R', 'R'],\n",
       "       ['S', 'S', 'S', 'S', 'S', 'S', 'S', 'S', 'S', 'R'],\n",
       "       ['S', 'S', 'S', 'S', 'S', 'S', 'S', 'S', 'S', 'S'],\n",
       "       ['S', 'S', 'S', 'S', 'S', 'S', 'S', 'S', 'S', 'S'],\n",
       "       ['S', 'S', 'S', 'S', 'S', 'S', 'S', 'S', 'S', 'S']], dtype='<U2')"
      ]
     },
     "execution_count": 78,
     "metadata": {},
     "output_type": "execute_result"
    }
   ],
   "source": [
    "hard[1:,1:]"
   ]
  },
  {
   "cell_type": "code",
   "execution_count": null,
   "id": "f590d815",
   "metadata": {},
   "outputs": [],
   "source": []
  }
 ],
 "metadata": {
  "kernelspec": {
   "display_name": "Python 3 (ipykernel)",
   "language": "python",
   "name": "python3"
  },
  "language_info": {
   "codemirror_mode": {
    "name": "ipython",
    "version": 3
   },
   "file_extension": ".py",
   "mimetype": "text/x-python",
   "name": "python",
   "nbconvert_exporter": "python",
   "pygments_lexer": "ipython3",
   "version": "3.9.0"
  }
 },
 "nbformat": 4,
 "nbformat_minor": 5
}
