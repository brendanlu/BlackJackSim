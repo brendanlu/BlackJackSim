{
 "cells": [
  {
   "cell_type": "code",
   "execution_count": null,
   "metadata": {},
   "outputs": [],
   "source": [
    "import pandas as pd \n",
    "look = pd.read_csv(r\"StrategyInput\\BasicNoDeviations-4to8Decks-HitSoft17.csv\", delimiter='\\t')\n",
    "look.iloc[0,1:] = look.columns[1:]\n",
    "look.to_csv(\"BasicNoDeviations-4to8Decks-HitSoft17.csv\", header=False, index=False)"
   ]
  },
  {
   "cell_type": "code",
   "execution_count": null,
   "metadata": {},
   "outputs": [],
   "source": [
    "%%cython --cplus\n",
    "\n",
    "from libcpp.unordered_map cimport unordered_map # we use the map from the C++ STL - quicker than Python dict\n",
    "\n",
    "ctypedef unordered_map[char, Py_ssize_t] parse_char_t # create a mapping type for our char bytes\n",
    "ctypedef unordered_map[int, Py_ssize_t] get_idx_t # get indexes based on hard values\n",
    "\n",
    "# Map dealer upcard to vertical (second dimension - C order) index\n",
    "cdef parse_char_t dealer_idx\n",
    "dealer_idx.insert({'2', 0})\n",
    "dealer_idx.insert({'3', 1})\n",
    "dealer_idx.insert({'4', 2})\n",
    "dealer_idx.insert({'5', 3})\n",
    "dealer_idx.insert({'6', 4})\n",
    "dealer_idx.insert({'7', 5})\n",
    "dealer_idx.insert({'8', 6})\n",
    "dealer_idx.insert({'9', 7})\n",
    "dealer_idx.insert({'T', 8})\n",
    "dealer_idx.insert({'J', 8})\n",
    "dealer_idx.insert({'Q', 8})\n",
    "dealer_idx.insert({'K', 8})\n",
    "dealer_idx.insert({'A', 9})"
   ]
  }
 ],
 "metadata": {
  "language_info": {
   "name": "python"
  },
  "orig_nbformat": 4
 },
 "nbformat": 4,
 "nbformat_minor": 2
}
