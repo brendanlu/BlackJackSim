{
 "cells": [
  {
   "cell_type": "code",
   "execution_count": null,
   "metadata": {},
   "outputs": [],
   "source": [
    "import pandas as pd \n",
    "look = pd.read_csv(r\"StrategyInput\\BasicNoDeviations-4to8Decks-HitSoft17.csv\", delimiter='\\t')\n",
    "look.iloc[0,1:] = look.columns[1:]\n",
    "look.to_csv(\"BasicNoDeviations-4to8Decks-HitSoft17.csv\", header=False, index=False)"
   ]
  }
 ],
 "metadata": {
  "language_info": {
   "name": "python"
  },
  "orig_nbformat": 4
 },
 "nbformat": 4,
 "nbformat_minor": 2
}
